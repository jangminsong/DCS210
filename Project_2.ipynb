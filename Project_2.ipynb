{
  "nbformat": 4,
  "nbformat_minor": 0,
  "metadata": {
    "colab": {
      "provenance": [],
      "authorship_tag": "ABX9TyMWjXAtqo/RoN+sGR7oyjXv"
    },
    "kernelspec": {
      "name": "ir",
      "display_name": "R"
    },
    "language_info": {
      "name": "R"
    }
  },
  "cells": [
    {
      "cell_type": "code",
      "execution_count": null,
      "metadata": {
        "colab": {
          "base_uri": "https://localhost:8080/"
        },
        "id": "2gcFD9sMec71",
        "outputId": "978b5852-fbe1-4f1e-fd37-1f13c3a61e8a"
      },
      "outputs": [
        {
          "output_type": "stream",
          "name": "stderr",
          "text": [
            "Installing package into ‘/usr/local/lib/R/site-library’\n",
            "(as ‘lib’ is unspecified)\n",
            "\n",
            "Installing package into ‘/usr/local/lib/R/site-library’\n",
            "(as ‘lib’ is unspecified)\n",
            "\n",
            "Warning message in system(\"timedatectl\", intern = TRUE):\n",
            "“running command 'timedatectl' had status 1”\n",
            "── \u001b[1mAttaching packages\u001b[22m ─────────────────────────────────────── tidyverse 1.3.2 ──\n",
            "\u001b[32m✔\u001b[39m \u001b[34mggplot2\u001b[39m 3.3.6      \u001b[32m✔\u001b[39m \u001b[34mpurrr  \u001b[39m 0.3.4 \n",
            "\u001b[32m✔\u001b[39m \u001b[34mtibble \u001b[39m 3.1.7      \u001b[32m✔\u001b[39m \u001b[34mdplyr  \u001b[39m 1.0.10\n",
            "\u001b[32m✔\u001b[39m \u001b[34mtidyr  \u001b[39m 1.2.1      \u001b[32m✔\u001b[39m \u001b[34mstringr\u001b[39m 1.4.1 \n",
            "\u001b[32m✔\u001b[39m \u001b[34mreadr  \u001b[39m 2.1.2      \u001b[32m✔\u001b[39m \u001b[34mforcats\u001b[39m 0.5.2 \n",
            "── \u001b[1mConflicts\u001b[22m ────────────────────────────────────────── tidyverse_conflicts() ──\n",
            "\u001b[31m✖\u001b[39m \u001b[34mdplyr\u001b[39m::\u001b[32mfilter()\u001b[39m masks \u001b[34mstats\u001b[39m::filter()\n",
            "\u001b[31m✖\u001b[39m \u001b[34mdplyr\u001b[39m::\u001b[32mlag()\u001b[39m    masks \u001b[34mstats\u001b[39m::lag()\n"
          ]
        }
      ],
      "source": [
        "install.packages(\"tidyverse\")\n",
        "install.packages(\"skimr\")\n",
        "library(tidyverse)\n",
        "library(skimr)"
      ]
    },
    {
      "cell_type": "code",
      "source": [
        "hotels <- read.csv(\"hotels.csv\")"
      ],
      "metadata": {
        "id": "rDudiGKUqf5i"
      },
      "execution_count": null,
      "outputs": []
    },
    {
      "cell_type": "code",
      "source": [
        "#1\n",
        "skim(hotels) #shows all the information"
      ],
      "metadata": {
        "id": "Kj9DHVAvqrcl"
      },
      "execution_count": null,
      "outputs": []
    },
    {
      "cell_type": "markdown",
      "source": [
        "1. skim(hotels) gives me the data summary and the column type frequency. The data summary contains the name of the data, number of columns and rows in the data, and the column type frequency contains character and numeric. It helps me understand the information of people who stay in each hotel, and it tells whether the data has missing data or not.\n"
      ],
      "metadata": {
        "id": "jRhCzfu6UsX2"
      }
    },
    {
      "cell_type": "code",
      "source": [
        "#2\n",
        "hotels %>%\n",
        "  filter(\n",
        "    country != \"USA\",\n",
        "    lead_time < 1\n",
        "  ) %>% #removing all the visitors from the US\n",
        "  select(lead_time) #shows the lead_time\n",
        ""
      ],
      "metadata": {
        "id": "ZCsg-TFKFmsb"
      },
      "execution_count": null,
      "outputs": []
    },
    {
      "cell_type": "markdown",
      "source": [
        "2. The command filters all the visitors from the USA, therefore, the data only provides the visitors from the outside of the country. Also, we got rid of all the data that the lead time are less than a day. The data frame’s number decreased from 119390 to 6174.\n"
      ],
      "metadata": {
        "id": "TZy2g1M0Uu7X"
      }
    },
    {
      "cell_type": "code",
      "source": [
        "#3\n",
        "hotels %>%\n",
        "  filter(\n",
        "    children >= 1| babies >= 1\n",
        "  ) #filtering all the visitors with at least one child or baby\n",
        "\n",
        ""
      ],
      "metadata": {
        "id": "BWv9-TmFI3EU"
      },
      "execution_count": null,
      "outputs": []
    },
    {
      "cell_type": "markdown",
      "source": [
        "3. The command gets rid of all the visitors  with no children or babies . The data frame’s number decreased from 119390 to 9332.\n"
      ],
      "metadata": {
        "id": "EyehiJLRUxK2"
      }
    },
    {
      "cell_type": "markdown",
      "source": [
        "4. I think it is more likely to find bookings with children or babies in resort hotels.\n"
      ],
      "metadata": {
        "id": "cDIZE0PzU1pk"
      }
    },
    {
      "cell_type": "code",
      "source": [
        "#5\n",
        "hotels %>%\n",
        "  filter(\n",
        "    children >= 1| babies >= 1,\n",
        "    hotel == \"Resort Hotel\"\n",
        "  ) %>%#filtering all the visitors with 0 children or babies\n",
        "  select(hotel,adults, babies, children)\n"
      ],
      "metadata": {
        "id": "AW0MHlAXMWWg",
        "colab": {
          "base_uri": "https://localhost:8080/",
          "height": 1000
        },
        "outputId": "79e22cda-cf07-4536-d3ca-e870e01d015d"
      },
      "execution_count": null,
      "outputs": [
        {
          "output_type": "display_data",
          "data": {
            "text/html": [
              "<table class=\"dataframe\">\n",
              "<caption>A data.frame: 3929 × 5</caption>\n",
              "<thead>\n",
              "\t<tr><th scope=col>hotel</th><th scope=col>adults</th><th scope=col>babies</th><th scope=col>children</th><th scope=col>adr</th></tr>\n",
              "\t<tr><th scope=col>&lt;chr&gt;</th><th scope=col>&lt;int&gt;</th><th scope=col>&lt;int&gt;</th><th scope=col>&lt;int&gt;</th><th scope=col>&lt;dbl&gt;</th></tr>\n",
              "</thead>\n",
              "<tbody>\n",
              "\t<tr><td>Resort Hotel</td><td>2</td><td>0</td><td>1</td><td>154.77</td></tr>\n",
              "\t<tr><td>Resort Hotel</td><td>2</td><td>0</td><td>2</td><td>153.00</td></tr>\n",
              "\t<tr><td>Resort Hotel</td><td>2</td><td>0</td><td>2</td><td>107.00</td></tr>\n",
              "\t<tr><td>Resort Hotel</td><td>2</td><td>0</td><td>2</td><td>153.00</td></tr>\n",
              "\t<tr><td>Resort Hotel</td><td>2</td><td>0</td><td>1</td><td>108.73</td></tr>\n",
              "\t<tr><td>Resort Hotel</td><td>2</td><td>0</td><td>1</td><td> 99.30</td></tr>\n",
              "\t<tr><td>Resort Hotel</td><td>1</td><td>0</td><td>2</td><td> 96.49</td></tr>\n",
              "\t<tr><td>Resort Hotel</td><td>2</td><td>0</td><td>2</td><td>163.00</td></tr>\n",
              "\t<tr><td>Resort Hotel</td><td>2</td><td>1</td><td>0</td><td> 73.80</td></tr>\n",
              "\t<tr><td>Resort Hotel</td><td>2</td><td>1</td><td>0</td><td>139.00</td></tr>\n",
              "\t<tr><td>Resort Hotel</td><td>2</td><td>0</td><td>1</td><td>149.00</td></tr>\n",
              "\t<tr><td>Resort Hotel</td><td>2</td><td>0</td><td>2</td><td>163.00</td></tr>\n",
              "\t<tr><td>Resort Hotel</td><td>2</td><td>0</td><td>1</td><td> 85.59</td></tr>\n",
              "\t<tr><td>Resort Hotel</td><td>2</td><td>0</td><td>2</td><td>163.00</td></tr>\n",
              "\t<tr><td>Resort Hotel</td><td>2</td><td>0</td><td>2</td><td>164.20</td></tr>\n",
              "\t<tr><td>Resort Hotel</td><td>2</td><td>0</td><td>2</td><td>175.00</td></tr>\n",
              "\t<tr><td>Resort Hotel</td><td>2</td><td>0</td><td>2</td><td>167.00</td></tr>\n",
              "\t<tr><td>Resort Hotel</td><td>2</td><td>0</td><td>2</td><td>210.00</td></tr>\n",
              "\t<tr><td>Resort Hotel</td><td>2</td><td>1</td><td>0</td><td> 97.00</td></tr>\n",
              "\t<tr><td>Resort Hotel</td><td>2</td><td>0</td><td>1</td><td>131.00</td></tr>\n",
              "\t<tr><td>Resort Hotel</td><td>2</td><td>0</td><td>2</td><td>185.00</td></tr>\n",
              "\t<tr><td>Resort Hotel</td><td>2</td><td>0</td><td>1</td><td>185.50</td></tr>\n",
              "\t<tr><td>Resort Hotel</td><td>3</td><td>0</td><td>2</td><td>193.00</td></tr>\n",
              "\t<tr><td>Resort Hotel</td><td>2</td><td>0</td><td>1</td><td>112.00</td></tr>\n",
              "\t<tr><td>Resort Hotel</td><td>2</td><td>0</td><td>2</td><td>123.00</td></tr>\n",
              "\t<tr><td>Resort Hotel</td><td>2</td><td>0</td><td>2</td><td>146.00</td></tr>\n",
              "\t<tr><td>Resort Hotel</td><td>2</td><td>0</td><td>2</td><td>123.00</td></tr>\n",
              "\t<tr><td>Resort Hotel</td><td>2</td><td>0</td><td>2</td><td>153.00</td></tr>\n",
              "\t<tr><td>Resort Hotel</td><td>2</td><td>1</td><td>0</td><td> 82.00</td></tr>\n",
              "\t<tr><td>Resort Hotel</td><td>2</td><td>0</td><td>1</td><td>185.00</td></tr>\n",
              "\t<tr><td>⋮</td><td>⋮</td><td>⋮</td><td>⋮</td><td>⋮</td></tr>\n",
              "\t<tr><td>Resort Hotel</td><td>2</td><td>0</td><td>2</td><td>210.00</td></tr>\n",
              "\t<tr><td>Resort Hotel</td><td>2</td><td>0</td><td>1</td><td>186.00</td></tr>\n",
              "\t<tr><td>Resort Hotel</td><td>2</td><td>0</td><td>1</td><td>219.03</td></tr>\n",
              "\t<tr><td>Resort Hotel</td><td>2</td><td>0</td><td>2</td><td>308.57</td></tr>\n",
              "\t<tr><td>Resort Hotel</td><td>2</td><td>0</td><td>1</td><td>277.71</td></tr>\n",
              "\t<tr><td>Resort Hotel</td><td>2</td><td>0</td><td>2</td><td>336.57</td></tr>\n",
              "\t<tr><td>Resort Hotel</td><td>2</td><td>0</td><td>2</td><td>289.86</td></tr>\n",
              "\t<tr><td>Resort Hotel</td><td>2</td><td>1</td><td>0</td><td>124.54</td></tr>\n",
              "\t<tr><td>Resort Hotel</td><td>2</td><td>1</td><td>0</td><td>123.00</td></tr>\n",
              "\t<tr><td>Resort Hotel</td><td>2</td><td>0</td><td>1</td><td>153.75</td></tr>\n",
              "\t<tr><td>Resort Hotel</td><td>2</td><td>0</td><td>2</td><td>298.00</td></tr>\n",
              "\t<tr><td>Resort Hotel</td><td>2</td><td>0</td><td>2</td><td>225.20</td></tr>\n",
              "\t<tr><td>Resort Hotel</td><td>1</td><td>0</td><td>2</td><td>284.29</td></tr>\n",
              "\t<tr><td>Resort Hotel</td><td>3</td><td>0</td><td>1</td><td>383.00</td></tr>\n",
              "\t<tr><td>Resort Hotel</td><td>2</td><td>0</td><td>2</td><td>200.00</td></tr>\n",
              "\t<tr><td>Resort Hotel</td><td>2</td><td>0</td><td>1</td><td>176.25</td></tr>\n",
              "\t<tr><td>Resort Hotel</td><td>2</td><td>0</td><td>1</td><td>250.20</td></tr>\n",
              "\t<tr><td>Resort Hotel</td><td>2</td><td>1</td><td>0</td><td>169.60</td></tr>\n",
              "\t<tr><td>Resort Hotel</td><td>2</td><td>0</td><td>2</td><td>232.50</td></tr>\n",
              "\t<tr><td>Resort Hotel</td><td>2</td><td>0</td><td>1</td><td>230.43</td></tr>\n",
              "\t<tr><td>Resort Hotel</td><td>2</td><td>0</td><td>1</td><td>230.43</td></tr>\n",
              "\t<tr><td>Resort Hotel</td><td>2</td><td>0</td><td>1</td><td>207.50</td></tr>\n",
              "\t<tr><td>Resort Hotel</td><td>2</td><td>0</td><td>1</td><td>178.58</td></tr>\n",
              "\t<tr><td>Resort Hotel</td><td>2</td><td>0</td><td>1</td><td>147.01</td></tr>\n",
              "\t<tr><td>Resort Hotel</td><td>2</td><td>0</td><td>2</td><td>222.86</td></tr>\n",
              "\t<tr><td>Resort Hotel</td><td>2</td><td>0</td><td>1</td><td> 87.75</td></tr>\n",
              "\t<tr><td>Resort Hotel</td><td>2</td><td>0</td><td>1</td><td>312.29</td></tr>\n",
              "\t<tr><td>Resort Hotel</td><td>2</td><td>0</td><td>1</td><td>127.58</td></tr>\n",
              "\t<tr><td>Resort Hotel</td><td>2</td><td>0</td><td>1</td><td>125.58</td></tr>\n",
              "\t<tr><td>Resort Hotel</td><td>2</td><td>0</td><td>1</td><td> 89.75</td></tr>\n",
              "</tbody>\n",
              "</table>\n"
            ],
            "text/markdown": "\nA data.frame: 3929 × 5\n\n| hotel &lt;chr&gt; | adults &lt;int&gt; | babies &lt;int&gt; | children &lt;int&gt; | adr &lt;dbl&gt; |\n|---|---|---|---|---|\n| Resort Hotel | 2 | 0 | 1 | 154.77 |\n| Resort Hotel | 2 | 0 | 2 | 153.00 |\n| Resort Hotel | 2 | 0 | 2 | 107.00 |\n| Resort Hotel | 2 | 0 | 2 | 153.00 |\n| Resort Hotel | 2 | 0 | 1 | 108.73 |\n| Resort Hotel | 2 | 0 | 1 |  99.30 |\n| Resort Hotel | 1 | 0 | 2 |  96.49 |\n| Resort Hotel | 2 | 0 | 2 | 163.00 |\n| Resort Hotel | 2 | 1 | 0 |  73.80 |\n| Resort Hotel | 2 | 1 | 0 | 139.00 |\n| Resort Hotel | 2 | 0 | 1 | 149.00 |\n| Resort Hotel | 2 | 0 | 2 | 163.00 |\n| Resort Hotel | 2 | 0 | 1 |  85.59 |\n| Resort Hotel | 2 | 0 | 2 | 163.00 |\n| Resort Hotel | 2 | 0 | 2 | 164.20 |\n| Resort Hotel | 2 | 0 | 2 | 175.00 |\n| Resort Hotel | 2 | 0 | 2 | 167.00 |\n| Resort Hotel | 2 | 0 | 2 | 210.00 |\n| Resort Hotel | 2 | 1 | 0 |  97.00 |\n| Resort Hotel | 2 | 0 | 1 | 131.00 |\n| Resort Hotel | 2 | 0 | 2 | 185.00 |\n| Resort Hotel | 2 | 0 | 1 | 185.50 |\n| Resort Hotel | 3 | 0 | 2 | 193.00 |\n| Resort Hotel | 2 | 0 | 1 | 112.00 |\n| Resort Hotel | 2 | 0 | 2 | 123.00 |\n| Resort Hotel | 2 | 0 | 2 | 146.00 |\n| Resort Hotel | 2 | 0 | 2 | 123.00 |\n| Resort Hotel | 2 | 0 | 2 | 153.00 |\n| Resort Hotel | 2 | 1 | 0 |  82.00 |\n| Resort Hotel | 2 | 0 | 1 | 185.00 |\n| ⋮ | ⋮ | ⋮ | ⋮ | ⋮ |\n| Resort Hotel | 2 | 0 | 2 | 210.00 |\n| Resort Hotel | 2 | 0 | 1 | 186.00 |\n| Resort Hotel | 2 | 0 | 1 | 219.03 |\n| Resort Hotel | 2 | 0 | 2 | 308.57 |\n| Resort Hotel | 2 | 0 | 1 | 277.71 |\n| Resort Hotel | 2 | 0 | 2 | 336.57 |\n| Resort Hotel | 2 | 0 | 2 | 289.86 |\n| Resort Hotel | 2 | 1 | 0 | 124.54 |\n| Resort Hotel | 2 | 1 | 0 | 123.00 |\n| Resort Hotel | 2 | 0 | 1 | 153.75 |\n| Resort Hotel | 2 | 0 | 2 | 298.00 |\n| Resort Hotel | 2 | 0 | 2 | 225.20 |\n| Resort Hotel | 1 | 0 | 2 | 284.29 |\n| Resort Hotel | 3 | 0 | 1 | 383.00 |\n| Resort Hotel | 2 | 0 | 2 | 200.00 |\n| Resort Hotel | 2 | 0 | 1 | 176.25 |\n| Resort Hotel | 2 | 0 | 1 | 250.20 |\n| Resort Hotel | 2 | 1 | 0 | 169.60 |\n| Resort Hotel | 2 | 0 | 2 | 232.50 |\n| Resort Hotel | 2 | 0 | 1 | 230.43 |\n| Resort Hotel | 2 | 0 | 1 | 230.43 |\n| Resort Hotel | 2 | 0 | 1 | 207.50 |\n| Resort Hotel | 2 | 0 | 1 | 178.58 |\n| Resort Hotel | 2 | 0 | 1 | 147.01 |\n| Resort Hotel | 2 | 0 | 2 | 222.86 |\n| Resort Hotel | 2 | 0 | 1 |  87.75 |\n| Resort Hotel | 2 | 0 | 1 | 312.29 |\n| Resort Hotel | 2 | 0 | 1 | 127.58 |\n| Resort Hotel | 2 | 0 | 1 | 125.58 |\n| Resort Hotel | 2 | 0 | 1 |  89.75 |\n\n",
            "text/latex": "A data.frame: 3929 × 5\n\\begin{tabular}{lllll}\n hotel & adults & babies & children & adr\\\\\n <chr> & <int> & <int> & <int> & <dbl>\\\\\n\\hline\n\t Resort Hotel & 2 & 0 & 1 & 154.77\\\\\n\t Resort Hotel & 2 & 0 & 2 & 153.00\\\\\n\t Resort Hotel & 2 & 0 & 2 & 107.00\\\\\n\t Resort Hotel & 2 & 0 & 2 & 153.00\\\\\n\t Resort Hotel & 2 & 0 & 1 & 108.73\\\\\n\t Resort Hotel & 2 & 0 & 1 &  99.30\\\\\n\t Resort Hotel & 1 & 0 & 2 &  96.49\\\\\n\t Resort Hotel & 2 & 0 & 2 & 163.00\\\\\n\t Resort Hotel & 2 & 1 & 0 &  73.80\\\\\n\t Resort Hotel & 2 & 1 & 0 & 139.00\\\\\n\t Resort Hotel & 2 & 0 & 1 & 149.00\\\\\n\t Resort Hotel & 2 & 0 & 2 & 163.00\\\\\n\t Resort Hotel & 2 & 0 & 1 &  85.59\\\\\n\t Resort Hotel & 2 & 0 & 2 & 163.00\\\\\n\t Resort Hotel & 2 & 0 & 2 & 164.20\\\\\n\t Resort Hotel & 2 & 0 & 2 & 175.00\\\\\n\t Resort Hotel & 2 & 0 & 2 & 167.00\\\\\n\t Resort Hotel & 2 & 0 & 2 & 210.00\\\\\n\t Resort Hotel & 2 & 1 & 0 &  97.00\\\\\n\t Resort Hotel & 2 & 0 & 1 & 131.00\\\\\n\t Resort Hotel & 2 & 0 & 2 & 185.00\\\\\n\t Resort Hotel & 2 & 0 & 1 & 185.50\\\\\n\t Resort Hotel & 3 & 0 & 2 & 193.00\\\\\n\t Resort Hotel & 2 & 0 & 1 & 112.00\\\\\n\t Resort Hotel & 2 & 0 & 2 & 123.00\\\\\n\t Resort Hotel & 2 & 0 & 2 & 146.00\\\\\n\t Resort Hotel & 2 & 0 & 2 & 123.00\\\\\n\t Resort Hotel & 2 & 0 & 2 & 153.00\\\\\n\t Resort Hotel & 2 & 1 & 0 &  82.00\\\\\n\t Resort Hotel & 2 & 0 & 1 & 185.00\\\\\n\t ⋮ & ⋮ & ⋮ & ⋮ & ⋮\\\\\n\t Resort Hotel & 2 & 0 & 2 & 210.00\\\\\n\t Resort Hotel & 2 & 0 & 1 & 186.00\\\\\n\t Resort Hotel & 2 & 0 & 1 & 219.03\\\\\n\t Resort Hotel & 2 & 0 & 2 & 308.57\\\\\n\t Resort Hotel & 2 & 0 & 1 & 277.71\\\\\n\t Resort Hotel & 2 & 0 & 2 & 336.57\\\\\n\t Resort Hotel & 2 & 0 & 2 & 289.86\\\\\n\t Resort Hotel & 2 & 1 & 0 & 124.54\\\\\n\t Resort Hotel & 2 & 1 & 0 & 123.00\\\\\n\t Resort Hotel & 2 & 0 & 1 & 153.75\\\\\n\t Resort Hotel & 2 & 0 & 2 & 298.00\\\\\n\t Resort Hotel & 2 & 0 & 2 & 225.20\\\\\n\t Resort Hotel & 1 & 0 & 2 & 284.29\\\\\n\t Resort Hotel & 3 & 0 & 1 & 383.00\\\\\n\t Resort Hotel & 2 & 0 & 2 & 200.00\\\\\n\t Resort Hotel & 2 & 0 & 1 & 176.25\\\\\n\t Resort Hotel & 2 & 0 & 1 & 250.20\\\\\n\t Resort Hotel & 2 & 1 & 0 & 169.60\\\\\n\t Resort Hotel & 2 & 0 & 2 & 232.50\\\\\n\t Resort Hotel & 2 & 0 & 1 & 230.43\\\\\n\t Resort Hotel & 2 & 0 & 1 & 230.43\\\\\n\t Resort Hotel & 2 & 0 & 1 & 207.50\\\\\n\t Resort Hotel & 2 & 0 & 1 & 178.58\\\\\n\t Resort Hotel & 2 & 0 & 1 & 147.01\\\\\n\t Resort Hotel & 2 & 0 & 2 & 222.86\\\\\n\t Resort Hotel & 2 & 0 & 1 &  87.75\\\\\n\t Resort Hotel & 2 & 0 & 1 & 312.29\\\\\n\t Resort Hotel & 2 & 0 & 1 & 127.58\\\\\n\t Resort Hotel & 2 & 0 & 1 & 125.58\\\\\n\t Resort Hotel & 2 & 0 & 1 &  89.75\\\\\n\\end{tabular}\n",
            "text/plain": [
              "     hotel        adults babies children adr   \n",
              "1    Resort Hotel 2      0      1        154.77\n",
              "2    Resort Hotel 2      0      2        153.00\n",
              "3    Resort Hotel 2      0      2        107.00\n",
              "4    Resort Hotel 2      0      2        153.00\n",
              "5    Resort Hotel 2      0      1        108.73\n",
              "6    Resort Hotel 2      0      1         99.30\n",
              "7    Resort Hotel 1      0      2         96.49\n",
              "8    Resort Hotel 2      0      2        163.00\n",
              "9    Resort Hotel 2      1      0         73.80\n",
              "10   Resort Hotel 2      1      0        139.00\n",
              "11   Resort Hotel 2      0      1        149.00\n",
              "12   Resort Hotel 2      0      2        163.00\n",
              "13   Resort Hotel 2      0      1         85.59\n",
              "14   Resort Hotel 2      0      2        163.00\n",
              "15   Resort Hotel 2      0      2        164.20\n",
              "16   Resort Hotel 2      0      2        175.00\n",
              "17   Resort Hotel 2      0      2        167.00\n",
              "18   Resort Hotel 2      0      2        210.00\n",
              "19   Resort Hotel 2      1      0         97.00\n",
              "20   Resort Hotel 2      0      1        131.00\n",
              "21   Resort Hotel 2      0      2        185.00\n",
              "22   Resort Hotel 2      0      1        185.50\n",
              "23   Resort Hotel 3      0      2        193.00\n",
              "24   Resort Hotel 2      0      1        112.00\n",
              "25   Resort Hotel 2      0      2        123.00\n",
              "26   Resort Hotel 2      0      2        146.00\n",
              "27   Resort Hotel 2      0      2        123.00\n",
              "28   Resort Hotel 2      0      2        153.00\n",
              "29   Resort Hotel 2      1      0         82.00\n",
              "30   Resort Hotel 2      0      1        185.00\n",
              "⋮    ⋮            ⋮      ⋮      ⋮        ⋮     \n",
              "3900 Resort Hotel 2      0      2        210.00\n",
              "3901 Resort Hotel 2      0      1        186.00\n",
              "3902 Resort Hotel 2      0      1        219.03\n",
              "3903 Resort Hotel 2      0      2        308.57\n",
              "3904 Resort Hotel 2      0      1        277.71\n",
              "3905 Resort Hotel 2      0      2        336.57\n",
              "3906 Resort Hotel 2      0      2        289.86\n",
              "3907 Resort Hotel 2      1      0        124.54\n",
              "3908 Resort Hotel 2      1      0        123.00\n",
              "3909 Resort Hotel 2      0      1        153.75\n",
              "3910 Resort Hotel 2      0      2        298.00\n",
              "3911 Resort Hotel 2      0      2        225.20\n",
              "3912 Resort Hotel 1      0      2        284.29\n",
              "3913 Resort Hotel 3      0      1        383.00\n",
              "3914 Resort Hotel 2      0      2        200.00\n",
              "3915 Resort Hotel 2      0      1        176.25\n",
              "3916 Resort Hotel 2      0      1        250.20\n",
              "3917 Resort Hotel 2      1      0        169.60\n",
              "3918 Resort Hotel 2      0      2        232.50\n",
              "3919 Resort Hotel 2      0      1        230.43\n",
              "3920 Resort Hotel 2      0      1        230.43\n",
              "3921 Resort Hotel 2      0      1        207.50\n",
              "3922 Resort Hotel 2      0      1        178.58\n",
              "3923 Resort Hotel 2      0      1        147.01\n",
              "3924 Resort Hotel 2      0      2        222.86\n",
              "3925 Resort Hotel 2      0      1         87.75\n",
              "3926 Resort Hotel 2      0      1        312.29\n",
              "3927 Resort Hotel 2      0      1        127.58\n",
              "3928 Resort Hotel 2      0      1        125.58\n",
              "3929 Resort Hotel 2      0      1         89.75"
            ]
          },
          "metadata": {}
        }
      ]
    },
    {
      "cell_type": "markdown",
      "source": [
        "5. The number of bookings in resort hotels that have more than one child or one baby in the room is 3929."
      ],
      "metadata": {
        "id": "D9IKZxSzWyHt"
      }
    },
    {
      "cell_type": "code",
      "source": [
        "#6\n",
        "hotels %>%\n",
        "  filter(\n",
        "    children >= 1| babies >= 1,\n",
        "    hotel == \"City Hotel\"\n",
        "  ) %>%#filtering all the visitors with 0 children or babies\n",
        "  select(hotel,adults, babies, children)\n"
      ],
      "metadata": {
        "id": "XvNpLL8GXtc2"
      },
      "execution_count": null,
      "outputs": []
    },
    {
      "cell_type": "markdown",
      "source": [
        "6. The number of bookings in city hotels that have more than one child or one baby in the room is 5403."
      ],
      "metadata": {
        "id": "q8TCobRIWxt_"
      }
    },
    {
      "cell_type": "code",
      "source": [
        "#7\n",
        "hotels %>%\n",
        "  filter(\n",
        "    children >= 1| babies >= 1,\n",
        "  ) %>%#filtering all the visitors with 0 children or babies\n",
        "  select(hotel,adults, babies, children)"
      ],
      "metadata": {
        "id": "LPD_u-vUYJQ0"
      },
      "execution_count": null,
      "outputs": []
    },
    {
      "cell_type": "markdown",
      "source": [
        "7. We find more in the city hotel than the resort hotel.\n"
      ],
      "metadata": {
        "id": "DsXwxLKLass9"
      }
    },
    {
      "cell_type": "code",
      "source": [
        "#8\n",
        "hotels %>%\n",
        "  count(adults, sort = TRUE)"
      ],
      "metadata": {
        "id": "860v6u4sa_64"
      },
      "execution_count": null,
      "outputs": []
    },
    {
      "cell_type": "markdown",
      "source": [
        "8. The party of 2 are the most common number of adults in bookings. 89680 parties. It is surpring that there are 403 bookings with 0 adults."
      ],
      "metadata": {
        "id": "EpZZ4wLAbp_E"
      }
    },
    {
      "cell_type": "code",
      "source": [
        "#9\n",
        "hotels %>%\n",
        "  count(is_canceled, sort = TRUE)"
      ],
      "metadata": {
        "colab": {
          "base_uri": "https://localhost:8080/",
          "height": 161
        },
        "id": "hIWYUMhRdA0G",
        "outputId": "2b5f1e31-21cd-4854-b755-1eaa12877f3c"
      },
      "execution_count": null,
      "outputs": [
        {
          "output_type": "display_data",
          "data": {
            "text/html": [
              "<table class=\"dataframe\">\n",
              "<caption>A data.frame: 2 × 2</caption>\n",
              "<thead>\n",
              "\t<tr><th scope=col>is_canceled</th><th scope=col>n</th></tr>\n",
              "\t<tr><th scope=col>&lt;int&gt;</th><th scope=col>&lt;int&gt;</th></tr>\n",
              "</thead>\n",
              "<tbody>\n",
              "\t<tr><td>0</td><td>75166</td></tr>\n",
              "\t<tr><td>1</td><td>44224</td></tr>\n",
              "</tbody>\n",
              "</table>\n"
            ],
            "text/markdown": "\nA data.frame: 2 × 2\n\n| is_canceled &lt;int&gt; | n &lt;int&gt; |\n|---|---|\n| 0 | 75166 |\n| 1 | 44224 |\n\n",
            "text/latex": "A data.frame: 2 × 2\n\\begin{tabular}{ll}\n is\\_canceled & n\\\\\n <int> & <int>\\\\\n\\hline\n\t 0 & 75166\\\\\n\t 1 & 44224\\\\\n\\end{tabular}\n",
            "text/plain": [
              "  is_canceled n    \n",
              "1 0           75166\n",
              "2 1           44224"
            ]
          },
          "metadata": {}
        }
      ]
    },
    {
      "cell_type": "markdown",
      "source": [
        "9. Around the quater of the bookings were canceled."
      ],
      "metadata": {
        "id": "mHxyWiebcNDX"
      }
    },
    {
      "cell_type": "code",
      "source": [
        "#10\n",
        "hotels %>%\n",
        "  filter(\n",
        "    hotel == \"Resort Hotel\"\n",
        "  ) %>%\n",
        "  summarise(\n",
        "    min_adr = min(adr),\n",
        "    mean_adr = mean(adr),\n",
        "    median_adr = median(adr),\n",
        "    max_adr = max(adr)\n",
        "  )\n",
        "\n"
      ],
      "metadata": {
        "colab": {
          "base_uri": "https://localhost:8080/",
          "height": 129
        },
        "id": "GC_vlhZydrk0",
        "outputId": "f1b12348-a541-4e11-c458-a8338782d686"
      },
      "execution_count": null,
      "outputs": [
        {
          "output_type": "display_data",
          "data": {
            "text/html": [
              "<table class=\"dataframe\">\n",
              "<caption>A data.frame: 1 × 4</caption>\n",
              "<thead>\n",
              "\t<tr><th scope=col>min_adr</th><th scope=col>mean_adr</th><th scope=col>median_adr</th><th scope=col>max_adr</th></tr>\n",
              "\t<tr><th scope=col>&lt;dbl&gt;</th><th scope=col>&lt;dbl&gt;</th><th scope=col>&lt;dbl&gt;</th><th scope=col>&lt;dbl&gt;</th></tr>\n",
              "</thead>\n",
              "<tbody>\n",
              "\t<tr><td>-6.38</td><td>94.95293</td><td>75</td><td>508</td></tr>\n",
              "</tbody>\n",
              "</table>\n"
            ],
            "text/markdown": "\nA data.frame: 1 × 4\n\n| min_adr &lt;dbl&gt; | mean_adr &lt;dbl&gt; | median_adr &lt;dbl&gt; | max_adr &lt;dbl&gt; |\n|---|---|---|---|\n| -6.38 | 94.95293 | 75 | 508 |\n\n",
            "text/latex": "A data.frame: 1 × 4\n\\begin{tabular}{llll}\n min\\_adr & mean\\_adr & median\\_adr & max\\_adr\\\\\n <dbl> & <dbl> & <dbl> & <dbl>\\\\\n\\hline\n\t -6.38 & 94.95293 & 75 & 508\\\\\n\\end{tabular}\n",
            "text/plain": [
              "  min_adr mean_adr median_adr max_adr\n",
              "1 -6.38   94.95293 75         508    "
            ]
          },
          "metadata": {}
        }
      ]
    },
    {
      "cell_type": "code",
      "source": [
        "#10\n",
        "hotels %>%\n",
        "  filter(\n",
        "    hotel == \"City Hotel\"\n",
        "  ) %>%\n",
        "  summarise(\n",
        "    min_adr = min(adr),\n",
        "    mean_adr = mean(adr),\n",
        "    median_adr = median(adr),\n",
        "    max_adr = max(adr)\n",
        "    )\n"
      ],
      "metadata": {
        "colab": {
          "base_uri": "https://localhost:8080/",
          "height": 129
        },
        "id": "bpNoY0lJhm7s",
        "outputId": "b4e52235-2738-408e-9cff-9adb2ebec737"
      },
      "execution_count": null,
      "outputs": [
        {
          "output_type": "display_data",
          "data": {
            "text/html": [
              "<table class=\"dataframe\">\n",
              "<caption>A data.frame: 1 × 4</caption>\n",
              "<thead>\n",
              "\t<tr><th scope=col>min_adr</th><th scope=col>mean_adr</th><th scope=col>median_adr</th><th scope=col>max_adr</th></tr>\n",
              "\t<tr><th scope=col>&lt;dbl&gt;</th><th scope=col>&lt;dbl&gt;</th><th scope=col>&lt;dbl&gt;</th><th scope=col>&lt;dbl&gt;</th></tr>\n",
              "</thead>\n",
              "<tbody>\n",
              "\t<tr><td>0</td><td>105.3045</td><td>99.9</td><td>5400</td></tr>\n",
              "</tbody>\n",
              "</table>\n"
            ],
            "text/markdown": "\nA data.frame: 1 × 4\n\n| min_adr &lt;dbl&gt; | mean_adr &lt;dbl&gt; | median_adr &lt;dbl&gt; | max_adr &lt;dbl&gt; |\n|---|---|---|---|\n| 0 | 105.3045 | 99.9 | 5400 |\n\n",
            "text/latex": "A data.frame: 1 × 4\n\\begin{tabular}{llll}\n min\\_adr & mean\\_adr & median\\_adr & max\\_adr\\\\\n <dbl> & <dbl> & <dbl> & <dbl>\\\\\n\\hline\n\t 0 & 105.3045 & 99.9 & 5400\\\\\n\\end{tabular}\n",
            "text/plain": [
              "  min_adr mean_adr median_adr max_adr\n",
              "1 0       105.3045 99.9       5400   "
            ]
          },
          "metadata": {}
        }
      ]
    },
    {
      "cell_type": "markdown",
      "source": [
        "10. City hotel is higher on average."
      ],
      "metadata": {
        "id": "LrfwzVm3jUJx"
      }
    },
    {
      "cell_type": "markdown",
      "source": [
        "11. The resort hotels has a negative minimum (-6.38), and the city hotel has a very high maximum (5400)."
      ],
      "metadata": {
        "id": "kXhtQlgFjqS7"
      }
    },
    {
      "cell_type": "code",
      "source": [
        "hotels %>%\n",
        "  filter(\n",
        "    adr == -6.38 | adr == 5400\n",
        "  ) %>%\n",
        "  select(adr, arrival_date_year, arrival_date_month, adults, children, babies)"
      ],
      "metadata": {
        "colab": {
          "base_uri": "https://localhost:8080/",
          "height": 161
        },
        "id": "frbPbRs5kAja",
        "outputId": "0b5f79c0-bcf8-4b81-826c-4f26e58762a8"
      },
      "execution_count": null,
      "outputs": [
        {
          "output_type": "display_data",
          "data": {
            "text/html": [
              "<table class=\"dataframe\">\n",
              "<caption>A data.frame: 2 × 6</caption>\n",
              "<thead>\n",
              "\t<tr><th scope=col>adr</th><th scope=col>arrival_date_year</th><th scope=col>arrival_date_month</th><th scope=col>adults</th><th scope=col>children</th><th scope=col>babies</th></tr>\n",
              "\t<tr><th scope=col>&lt;dbl&gt;</th><th scope=col>&lt;int&gt;</th><th scope=col>&lt;chr&gt;</th><th scope=col>&lt;int&gt;</th><th scope=col>&lt;int&gt;</th><th scope=col>&lt;int&gt;</th></tr>\n",
              "</thead>\n",
              "<tbody>\n",
              "\t<tr><td>  -6.38</td><td>2017</td><td>March</td><td>2</td><td>0</td><td>0</td></tr>\n",
              "\t<tr><td>5400.00</td><td>2016</td><td>March</td><td>2</td><td>0</td><td>0</td></tr>\n",
              "</tbody>\n",
              "</table>\n"
            ],
            "text/markdown": "\nA data.frame: 2 × 6\n\n| adr &lt;dbl&gt; | arrival_date_year &lt;int&gt; | arrival_date_month &lt;chr&gt; | adults &lt;int&gt; | children &lt;int&gt; | babies &lt;int&gt; |\n|---|---|---|---|---|---|\n|   -6.38 | 2017 | March | 2 | 0 | 0 |\n| 5400.00 | 2016 | March | 2 | 0 | 0 |\n\n",
            "text/latex": "A data.frame: 2 × 6\n\\begin{tabular}{llllll}\n adr & arrival\\_date\\_year & arrival\\_date\\_month & adults & children & babies\\\\\n <dbl> & <int> & <chr> & <int> & <int> & <int>\\\\\n\\hline\n\t   -6.38 & 2017 & March & 2 & 0 & 0\\\\\n\t 5400.00 & 2016 & March & 2 & 0 & 0\\\\\n\\end{tabular}\n",
            "text/plain": [
              "  adr     arrival_date_year arrival_date_month adults children babies\n",
              "1   -6.38 2017              March              2      0        0     \n",
              "2 5400.00 2016              March              2      0        0     "
            ]
          },
          "metadata": {}
        }
      ]
    }
  ]
}