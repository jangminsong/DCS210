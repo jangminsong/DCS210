{
  "nbformat": 4,
  "nbformat_minor": 0,
  "metadata": {
    "colab": {
      "provenance": [],
      "authorship_tag": "ABX9TyOXKui1KYAf49uQ68twX293"
    },
    "kernelspec": {
      "name": "ir",
      "display_name": "R"
    },
    "language_info": {
      "name": "R"
    }
  },
  "cells": [
    {
      "cell_type": "code",
      "execution_count": null,
      "metadata": {
        "id": "ENtwD26uZvxJ"
      },
      "outputs": [],
      "source": [
        "#HW6\n",
        "#Jangmin Song"
      ]
    },
    {
      "cell_type": "markdown",
      "source": [
        "4\\\n",
        "a. As the temperature is low, there is more damaged O-rings.\n",
        "\n",
        "b. We can say that the y interception for the linear model is 11.66. Also, the slope is -0.22, which has a negative correlation.\n",
        "\n",
        "c. $log(\\frac{p}{1-p})=(11.6630-0.2162) *Temperature$\n",
        "\n",
        "d. Concerns regarding O-rings are justified because the value of p is very low.\n"
      ],
      "metadata": {
        "id": "r-LpGHvbdR98"
      }
    },
    {
      "cell_type": "code",
      "source": [
        "#6\n",
        "#a.\n",
        "temp=51\n",
        "x = 11.6630-0.2162*(temp)\n",
        "p = (exp(x))/(1+exp(x))\n",
        "print(paste(round(p*100, 4), \"percent at\", temp, \"degrees Fahrenheit\"))\n",
        "\n",
        "temp1=53\n",
        "x1 = 11.6630-0.2162*(temp1)\n",
        "p1 = (exp(x1))/(1+exp(x1))\n",
        "print(paste(round(p1*100, 4), \"percent at\", temp1, \"degrees Fahrenheit\"))\n",
        "\n",
        "temp2=55\n",
        "x2 = 11.6630-0.2162*(temp2)\n",
        "p2 = (exp(x2))/(1+exp(x2))\n",
        "print(paste(round(p2*100, 4), \"percent at\", temp2, \"degrees Fahrenheit\"))"
      ],
      "metadata": {
        "colab": {
          "base_uri": "https://localhost:8080/"
        },
        "id": "8E5KfY_JvAwB",
        "outputId": "a70b57cd-cca4-45b0-a1dc-46c38fb75eff"
      },
      "execution_count": null,
      "outputs": [
        {
          "output_type": "stream",
          "name": "stdout",
          "text": [
            "[1] \"65.403 percent at 51 degrees Fahrenheit\"\n",
            "[1] \"55.0923 percent at 53 degrees Fahrenheit\"\n",
            "[1] \"44.3246 percent at 55 degrees Fahrenheit\"\n"
          ]
        }
      ]
    },
    {
      "cell_type": "code",
      "source": [
        "#6\n",
        "#b.\n",
        "temp = c(seq(51, 71, 2))\n",
        "failure = as.numeric()\n",
        "\n",
        "for (i in temp) {\n",
        "  answer = 11.6630-0.2162*(i)\n",
        "  percent = (exp(answer))/(1+exp(answer))\n",
        "  failure = cbind(failure, percent)}\n",
        "plot(Temperature, failure, type=\"b\")"
      ],
      "metadata": {
        "colab": {
          "base_uri": "https://localhost:8080/",
          "height": 437
        },
        "id": "CD_7OZutzDcF",
        "outputId": "883b7d2a-1da6-4aba-9b9c-967505c4d8c9"
      },
      "execution_count": null,
      "outputs": [
        {
          "output_type": "display_data",
          "data": {
            "text/plain": [
              "plot without title"
            ],
            "image/png": "[encoded data removed]"
          },
          "metadata": {
            "image/png": {
              "width": 420,
              "height": 420
            }
          }
        }
      ]
    },
    {
      "cell_type": "markdown",
      "source": [
        "6\\\n",
        "c. The concern is that there are only six O-rings tested for teach missions, so the data is not trustable enough."
      ],
      "metadata": {
        "id": "PjnOzpFlz8k7"
      }
    }
  ]
}