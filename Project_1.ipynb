{
  "nbformat": 4,
  "nbformat_minor": 0,
  "metadata": {
    "colab": {
      "provenance": [],
      "authorship_tag": "ABX9TyOYasCe7x5t2kQzpOcef0Nh",
      "include_colab_link": true
    },
    "kernelspec": {
      "name": "ir",
      "display_name": "R"
    },
    "language_info": {
      "name": "R"
    }
  },
  "cells": [
    {
      "cell_type": "markdown",
      "metadata": {
        "id": "view-in-github",
        "colab_type": "text"
      },
      "source": [
        "<a href=\"https://colab.research.google.com/github/jangminsong/DCS210/blob/Project/Project_1.ipynb\" target=\"_parent\"><img src=\"https://colab.research.google.com/assets/colab-badge.svg\" alt=\"Open In Colab\"/></a>"
      ]
    },
    {
      "cell_type": "code",
      "execution_count": null,
      "metadata": {
        "id": "60Ji194zptMg",
        "colab": {
          "base_uri": "https://localhost:8080/"
        },
        "outputId": "4093cf00-2bbc-4779-a46d-e353460ba4a3"
      },
      "outputs": [
        {
          "output_type": "stream",
          "name": "stderr",
          "text": [
            "Installing package into ‘/usr/local/lib/R/site-library’\n",
            "(as ‘lib’ is unspecified)\n",
            "\n",
            "Installing package into ‘/usr/local/lib/R/site-library’\n",
            "(as ‘lib’ is unspecified)\n",
            "\n",
            "Some larger datasets need to be installed separately, like senators and\n",
            "house_district_forecast. To install these, we recommend you install the\n",
            "fivethirtyeightdata package by running:\n",
            "install.packages('fivethirtyeightdata', repos =\n",
            "'https://fivethirtyeightdata.github.io/drat/', type = 'source')\n",
            "\n",
            "Warning message in system(\"timedatectl\", intern = TRUE):\n",
            "“running command 'timedatectl' had status 1”\n",
            "── \u001b[1mAttaching packages\u001b[22m ─────────────────────────────────────── tidyverse 1.3.2 ──\n",
            "\u001b[32m✔\u001b[39m \u001b[34mggplot2\u001b[39m 3.3.6      \u001b[32m✔\u001b[39m \u001b[34mpurrr  \u001b[39m 0.3.4 \n",
            "\u001b[32m✔\u001b[39m \u001b[34mtibble \u001b[39m 3.1.7      \u001b[32m✔\u001b[39m \u001b[34mdplyr  \u001b[39m 1.0.10\n",
            "\u001b[32m✔\u001b[39m \u001b[34mtidyr  \u001b[39m 1.2.1      \u001b[32m✔\u001b[39m \u001b[34mstringr\u001b[39m 1.4.1 \n",
            "\u001b[32m✔\u001b[39m \u001b[34mreadr  \u001b[39m 2.1.2      \u001b[32m✔\u001b[39m \u001b[34mforcats\u001b[39m 0.5.2 \n",
            "── \u001b[1mConflicts\u001b[22m ────────────────────────────────────────── tidyverse_conflicts() ──\n",
            "\u001b[31m✖\u001b[39m \u001b[34mdplyr\u001b[39m::\u001b[32mfilter()\u001b[39m masks \u001b[34mstats\u001b[39m::filter()\n",
            "\u001b[31m✖\u001b[39m \u001b[34mdplyr\u001b[39m::\u001b[32mlag()\u001b[39m    masks \u001b[34mstats\u001b[39m::lag()\n"
          ]
        }
      ],
      "source": [
        "install.packages(\"fivethirtyeight\")\n",
        "install.packages(\"tidyverse\")\n",
        "library(fivethirtyeight)\n",
        "library(tidyverse)\n"
      ]
    },
    {
      "cell_type": "code",
      "source": [
        "glimpse(bechdel)"
      ],
      "metadata": {
        "id": "15ZfBYe9qzAK"
      },
      "execution_count": null,
      "outputs": []
    },
    {
      "cell_type": "code",
      "source": [
        "bechdel90_13 <- bechdel %>%\n",
        "  filter(between(year, 1990, 2013))"
      ],
      "metadata": {
        "id": "UC8rtNW2s9u5"
      },
      "execution_count": null,
      "outputs": []
    },
    {
      "cell_type": "code",
      "source": [
        "nrow(bechdel90_13)"
      ],
      "metadata": {
        "id": "waXqlZcRtvv8",
        "colab": {
          "base_uri": "https://localhost:8080/",
          "height": 34
        },
        "outputId": "e9d17dc1-62f9-4669-bfe0-45b692996f91"
      },
      "execution_count": null,
      "outputs": [
        {
          "output_type": "display_data",
          "data": {
            "text/html": [
              "1615"
            ],
            "text/markdown": "1615",
            "text/latex": "1615",
            "text/plain": [
              "[1] 1615"
            ]
          },
          "metadata": {}
        }
      ]
    },
    {
      "cell_type": "code",
      "source": [
        "bechdel90_13 %>%\n",
        "  group_by(binary) %>%\n",
        "  summarise(med_budget = median(budget_2013),\n",
        "    med_domgross = median(domgross_2013, na.rm = TRUE),\n",
        "    med_intgross = median(intgross_2013, na.rm = TRUE))"
      ],
      "metadata": {
        "id": "9XaHatg4uRQv"
      },
      "execution_count": null,
      "outputs": []
    },
    {
      "cell_type": "code",
      "source": [
        "bechdel90_13 %>%\n",
        "  #group_by(___) %>%\n",
        "  summarise(med_budget = median(budget_2013),\n",
        "    med_domgross = median(domgross_2013, na.rm = TRUE),\n",
        "    med_intgross = median(intgross_2013, na.rm = TRUE))\n"
      ],
      "metadata": {
        "id": "BsY7sIa8ukgh",
        "colab": {
          "base_uri": "https://localhost:8080/",
          "height": 129
        },
        "outputId": "60364948-9137-438c-aa3d-2256a5e151d4"
      },
      "execution_count": null,
      "outputs": [
        {
          "output_type": "display_data",
          "data": {
            "text/html": [
              "<table class=\"dataframe\">\n",
              "<caption>A tibble: 1 × 3</caption>\n",
              "<thead>\n",
              "\t<tr><th scope=col>med_budget</th><th scope=col>med_domgross</th><th scope=col>med_intgross</th></tr>\n",
              "\t<tr><th scope=col>&lt;int&gt;</th><th scope=col>&lt;dbl&gt;</th><th scope=col>&lt;dbl&gt;</th></tr>\n",
              "</thead>\n",
              "<tbody>\n",
              "\t<tr><td>37878971</td><td>52270207</td><td>93523336</td></tr>\n",
              "</tbody>\n",
              "</table>\n"
            ],
            "text/markdown": "\nA tibble: 1 × 3\n\n| med_budget &lt;int&gt; | med_domgross &lt;dbl&gt; | med_intgross &lt;dbl&gt; |\n|---|---|---|\n| 37878971 | 52270207 | 93523336 |\n\n",
            "text/latex": "A tibble: 1 × 3\n\\begin{tabular}{lll}\n med\\_budget & med\\_domgross & med\\_intgross\\\\\n <int> & <dbl> & <dbl>\\\\\n\\hline\n\t 37878971 & 52270207 & 93523336\\\\\n\\end{tabular}\n",
            "text/plain": [
              "  med_budget med_domgross med_intgross\n",
              "1 37878971   52270207     93523336    "
            ]
          },
          "metadata": {}
        }
      ]
    },
    {
      "cell_type": "code",
      "source": [
        "bechdel90_13 <- bechdel90_13 %>%\n",
        "  mutate(roi = (intgross_2013 + domgross_2013) / budget_2013)"
      ],
      "metadata": {
        "id": "FJsHHJyrusyN"
      },
      "execution_count": null,
      "outputs": []
    },
    {
      "cell_type": "code",
      "source": [
        "bechdel90_13 %>%\n",
        "  arrange(desc(roi)) %>%\n",
        "  select(title, roi, year)"
      ],
      "metadata": {
        "id": "byhEE8Dnux0n"
      },
      "execution_count": null,
      "outputs": []
    },
    {
      "cell_type": "code",
      "source": [
        "ggplot(data = bechdel90_13,\n",
        "    mapping = aes(x = clean_test, y = roi, color = binary)) +\n",
        "  geom_boxplot() +\n",
        "  labs(title = \"Return on investment vs. Bechdel test result\",\n",
        "    x = \"Detailed Bechdel result\",\n",
        "    y = \"___\",\n",
        "    color = \"Binary Bechdel result\")"
      ],
      "metadata": {
        "id": "ybBYwZw5u_lW"
      },
      "execution_count": null,
      "outputs": []
    },
    {
      "cell_type": "code",
      "source": [
        "bechdel90_13 %>%\n",
        "  filter(roi > 400) %>%\n",
        "  select(title, budget_2013, domgross_2013, year)\n"
      ],
      "metadata": {
        "id": "IZJPjyS6vQyq"
      },
      "execution_count": null,
      "outputs": []
    },
    {
      "cell_type": "code",
      "source": [
        "ggplot(data = bechdel90_13, mapping = aes(x = clean_test, y = roi, color = binary)) +\n",
        "  geom_boxplot() +\n",
        "  labs(title = \"Return on investment vs. Bechdel test result\",\n",
        "    subtitle = \"___\", # Something about zooming in to a certain level\n",
        "    x = \"Detailed Bechdel result\",\n",
        "    y = \"Return on investment\",\n",
        "    color = \"Binary Bechdel result\") +\n",
        "  coord_cartesian(ylim = c(0, 15))"
      ],
      "metadata": {
        "id": "xNUMzvzPwVEz"
      },
      "execution_count": null,
      "outputs": []
    }
  ]
}