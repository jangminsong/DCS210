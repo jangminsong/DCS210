{
  "nbformat": 4,
  "nbformat_minor": 0,
  "metadata": {
    "colab": {
      "provenance": [],
      "authorship_tag": "ABX9TyNt1hgpg6CF1KPuuG++w31u",
      "include_colab_link": true
    },
    "kernelspec": {
      "name": "ir",
      "display_name": "R"
    },
    "language_info": {
      "name": "R"
    }
  },
  "cells": [
    {
      "cell_type": "markdown",
      "metadata": {
        "id": "view-in-github",
        "colab_type": "text"
      },
      "source": [
        "<a href=\"https://colab.research.google.com/github/jangminsong/DCS210/blob/Project/Project_6.ipynb\" target=\"_parent\"><img src=\"https://colab.research.google.com/assets/colab-badge.svg\" alt=\"Open In Colab\"/></a>"
      ]
    },
    {
      "cell_type": "code",
      "execution_count": null,
      "metadata": {
        "id": "wArfKPk230p0"
      },
      "outputs": [],
      "source": [
        "#Jangmin Song\n",
        "#Project 6"
      ]
    },
    {
      "cell_type": "code",
      "source": [
        "install.packages(\"tidyverse\")\n",
        "install.packages(\"tidymodels\")\n",
        "install.packages(\"openintro\")\n",
        "library(tidyverse)\n",
        "library(tidymodels)\n",
        "library(openintro)"
      ],
      "metadata": {
        "colab": {
          "base_uri": "https://localhost:8080/"
        },
        "id": "6fTMYRYj4AAw",
        "outputId": "87b81647-d089-4878-f61a-e6219c8ff139"
      },
      "execution_count": null,
      "outputs": [
        {
          "output_type": "stream",
          "name": "stderr",
          "text": [
            "Installing package into ‘/usr/local/lib/R/site-library’\n",
            "(as ‘lib’ is unspecified)\n",
            "\n",
            "Installing package into ‘/usr/local/lib/R/site-library’\n",
            "(as ‘lib’ is unspecified)\n",
            "\n",
            "also installing the dependencies ‘future.apply’, ‘numDeriv’, ‘progressr’, ‘SQUAREM’, ‘Rcpp’, ‘lava’, ‘listenv’, ‘parallelly’, ‘prodlim’, ‘future’, ‘warp’, ‘iterators’, ‘lhs’, ‘DiceDesign’, ‘patchwork’, ‘globals’, ‘clock’, ‘gower’, ‘ipred’, ‘timeDate’, ‘furrr’, ‘slider’, ‘foreach’, ‘GPfit’, ‘conflicted’, ‘dials’, ‘hardhat’, ‘infer’, ‘modeldata’, ‘parsnip’, ‘recipes’, ‘rsample’, ‘tune’, ‘workflows’, ‘workflowsets’, ‘yardstick’\n",
            "\n",
            "\n",
            "Installing package into ‘/usr/local/lib/R/site-library’\n",
            "(as ‘lib’ is unspecified)\n",
            "\n",
            "also installing the dependencies ‘airports’, ‘cherryblossom’, ‘usdata’\n",
            "\n",
            "\n",
            "Warning message in system(\"timedatectl\", intern = TRUE):\n",
            "“running command 'timedatectl' had status 1”\n",
            "── \u001b[1mAttaching packages\u001b[22m ─────────────────────────────────────── tidyverse 1.3.2 ──\n",
            "\u001b[32m✔\u001b[39m \u001b[34mggplot2\u001b[39m 3.4.0      \u001b[32m✔\u001b[39m \u001b[34mpurrr  \u001b[39m 0.3.5 \n",
            "\u001b[32m✔\u001b[39m \u001b[34mtibble \u001b[39m 3.1.8      \u001b[32m✔\u001b[39m \u001b[34mdplyr  \u001b[39m 1.0.10\n",
            "\u001b[32m✔\u001b[39m \u001b[34mtidyr  \u001b[39m 1.2.1      \u001b[32m✔\u001b[39m \u001b[34mstringr\u001b[39m 1.4.1 \n",
            "\u001b[32m✔\u001b[39m \u001b[34mreadr  \u001b[39m 2.1.3      \u001b[32m✔\u001b[39m \u001b[34mforcats\u001b[39m 0.5.2 \n",
            "── \u001b[1mConflicts\u001b[22m ────────────────────────────────────────── tidyverse_conflicts() ──\n",
            "\u001b[31m✖\u001b[39m \u001b[34mdplyr\u001b[39m::\u001b[32mfilter()\u001b[39m masks \u001b[34mstats\u001b[39m::filter()\n",
            "\u001b[31m✖\u001b[39m \u001b[34mdplyr\u001b[39m::\u001b[32mlag()\u001b[39m    masks \u001b[34mstats\u001b[39m::lag()\n",
            "── \u001b[1mAttaching packages\u001b[22m ────────────────────────────────────── tidymodels 1.0.0 ──\n",
            "\n",
            "\u001b[32m✔\u001b[39m \u001b[34mbroom       \u001b[39m 1.0.1     \u001b[32m✔\u001b[39m \u001b[34mrsample     \u001b[39m 1.1.0\n",
            "\u001b[32m✔\u001b[39m \u001b[34mdials       \u001b[39m 1.1.0     \u001b[32m✔\u001b[39m \u001b[34mtune        \u001b[39m 1.0.1\n",
            "\u001b[32m✔\u001b[39m \u001b[34minfer       \u001b[39m 1.0.3     \u001b[32m✔\u001b[39m \u001b[34mworkflows   \u001b[39m 1.1.0\n",
            "\u001b[32m✔\u001b[39m \u001b[34mmodeldata   \u001b[39m 1.0.1     \u001b[32m✔\u001b[39m \u001b[34mworkflowsets\u001b[39m 1.0.0\n",
            "\u001b[32m✔\u001b[39m \u001b[34mparsnip     \u001b[39m 1.0.3     \u001b[32m✔\u001b[39m \u001b[34myardstick   \u001b[39m 1.1.0\n",
            "\u001b[32m✔\u001b[39m \u001b[34mrecipes     \u001b[39m 1.0.3     \n",
            "\n",
            "── \u001b[1mConflicts\u001b[22m ───────────────────────────────────────── tidymodels_conflicts() ──\n",
            "\u001b[31m✖\u001b[39m \u001b[34mscales\u001b[39m::\u001b[32mdiscard()\u001b[39m masks \u001b[34mpurrr\u001b[39m::discard()\n",
            "\u001b[31m✖\u001b[39m \u001b[34mdplyr\u001b[39m::\u001b[32mfilter()\u001b[39m   masks \u001b[34mstats\u001b[39m::filter()\n",
            "\u001b[31m✖\u001b[39m \u001b[34mrecipes\u001b[39m::\u001b[32mfixed()\u001b[39m  masks \u001b[34mstringr\u001b[39m::fixed()\n",
            "\u001b[31m✖\u001b[39m \u001b[34mdplyr\u001b[39m::\u001b[32mlag()\u001b[39m      masks \u001b[34mstats\u001b[39m::lag()\n",
            "\u001b[31m✖\u001b[39m \u001b[34myardstick\u001b[39m::\u001b[32mspec()\u001b[39m masks \u001b[34mreadr\u001b[39m::spec()\n",
            "\u001b[31m✖\u001b[39m \u001b[34mrecipes\u001b[39m::\u001b[32mstep()\u001b[39m   masks \u001b[34mstats\u001b[39m::step()\n",
            "\u001b[34m•\u001b[39m Use suppressPackageStartupMessages() to eliminate package startup messages\n",
            "\n",
            "Loading required package: airports\n",
            "\n",
            "Loading required package: cherryblossom\n",
            "\n",
            "Loading required package: usdata\n",
            "\n",
            "\n",
            "Attaching package: ‘openintro’\n",
            "\n",
            "\n",
            "The following object is masked from ‘package:modeldata’:\n",
            "\n",
            "    ames\n",
            "\n",
            "\n"
          ]
        }
      ]
    },
    {
      "cell_type": "code",
      "source": [
        "install.packages(\"skimr\")\n",
        "library(skimr)"
      ],
      "metadata": {
        "colab": {
          "base_uri": "https://localhost:8080/"
        },
        "id": "AhB515jS8Mut",
        "outputId": "7806c29a-1bf1-46a9-c31b-076509790d68"
      },
      "execution_count": null,
      "outputs": [
        {
          "output_type": "stream",
          "name": "stderr",
          "text": [
            "Installing package into ‘/usr/local/lib/R/site-library’\n",
            "(as ‘lib’ is unspecified)\n",
            "\n"
          ]
        }
      ]
    },
    {
      "cell_type": "code",
      "source": [
        "?ncbirths"
      ],
      "metadata": {
        "id": "3GYRLDs_7QEE"
      },
      "execution_count": null,
      "outputs": []
    },
    {
      "cell_type": "code",
      "source": [
        "#1\n",
        "glimpse(ncbirths)"
      ],
      "metadata": {
        "colab": {
          "base_uri": "https://localhost:8080/"
        },
        "id": "ZKXKLDDZ4tvU",
        "outputId": "c94c3861-5c80-4d57-a351-615822df9639"
      },
      "execution_count": null,
      "outputs": [
        {
          "output_type": "stream",
          "name": "stdout",
          "text": [
            "Rows: 1,000\n",
            "Columns: 13\n",
            "$ fage           \u001b[3m\u001b[90m<int>\u001b[39m\u001b[23m NA, NA, 19, 21, NA, NA, 18, 17, NA, 20, 30, NA, NA, NA,…\n",
            "$ mage           \u001b[3m\u001b[90m<int>\u001b[39m\u001b[23m 13, 14, 15, 15, 15, 15, 15, 15, 16, 16, 16, 16, 16, 16,…\n",
            "$ mature         \u001b[3m\u001b[90m<fct>\u001b[39m\u001b[23m younger mom, younger mom, younger mom, younger mom, you…\n",
            "$ weeks          \u001b[3m\u001b[90m<int>\u001b[39m\u001b[23m 39, 42, 37, 41, 39, 38, 37, 35, 38, 37, 45, 42, 40, 38,…\n",
            "$ premie         \u001b[3m\u001b[90m<fct>\u001b[39m\u001b[23m full term, full term, full term, full term, full term, …\n",
            "$ visits         \u001b[3m\u001b[90m<int>\u001b[39m\u001b[23m 10, 15, 11, 6, 9, 19, 12, 5, 9, 13, 9, 8, 4, 12, 15, 7,…\n",
            "$ marital        \u001b[3m\u001b[90m<fct>\u001b[39m\u001b[23m not married, not married, not married, not married, not…\n",
            "$ gained         \u001b[3m\u001b[90m<int>\u001b[39m\u001b[23m 38, 20, 38, 34, 27, 22, 76, 15, NA, 52, 28, 34, 12, 30,…\n",
            "$ weight         \u001b[3m\u001b[90m<dbl>\u001b[39m\u001b[23m 7.63, 7.88, 6.63, 8.00, 6.38, 5.38, 8.44, 4.69, 8.81, 6…\n",
            "$ lowbirthweight \u001b[3m\u001b[90m<fct>\u001b[39m\u001b[23m not low, not low, not low, not low, not low, low, not l…\n",
            "$ gender         \u001b[3m\u001b[90m<fct>\u001b[39m\u001b[23m male, male, female, male, female, male, male, male, mal…\n",
            "$ habit          \u001b[3m\u001b[90m<fct>\u001b[39m\u001b[23m nonsmoker, nonsmoker, nonsmoker, nonsmoker, nonsmoker, …\n",
            "$ whitemom       \u001b[3m\u001b[90m<fct>\u001b[39m\u001b[23m not white, not white, white, white, not white, not whit…\n"
          ]
        }
      ]
    },
    {
      "cell_type": "markdown",
      "source": [
        "1. Mothers in North Carolina and the birth of their children can be found.There are 1000 cases total in this dataset."
      ],
      "metadata": {
        "id": "ZfWdwjD-66qj"
      }
    },
    {
      "cell_type": "code",
      "source": [
        "#2\n",
        "summary(ncbirths)\n",
        "skim(ncbirths)"
      ],
      "metadata": {
        "colab": {
          "base_uri": "https://localhost:8080/",
          "height": 1000
        },
        "id": "r9YbsHTb6FDj",
        "outputId": "261d96d5-f2a5-4e70-e2f9-cfb820fb0eaa"
      },
      "execution_count": null,
      "outputs": [
        {
          "output_type": "display_data",
          "data": {
            "text/plain": [
              "      fage            mage            mature        weeks             premie   \n",
              " Min.   :14.00   Min.   :13   mature mom :133   Min.   :20.00   full term:846  \n",
              " 1st Qu.:25.00   1st Qu.:22   younger mom:867   1st Qu.:37.00   premie   :152  \n",
              " Median :30.00   Median :27                     Median :39.00   NA's     :  2  \n",
              " Mean   :30.26   Mean   :27                     Mean   :38.33                  \n",
              " 3rd Qu.:35.00   3rd Qu.:32                     3rd Qu.:40.00                  \n",
              " Max.   :55.00   Max.   :50                     Max.   :45.00                  \n",
              " NA's   :171                                    NA's   :2                      \n",
              "     visits            marital        gained          weight      \n",
              " Min.   : 0.0   not married:386   Min.   : 0.00   Min.   : 1.000  \n",
              " 1st Qu.:10.0   married    :613   1st Qu.:20.00   1st Qu.: 6.380  \n",
              " Median :12.0   NA's       :  1   Median :30.00   Median : 7.310  \n",
              " Mean   :12.1                     Mean   :30.33   Mean   : 7.101  \n",
              " 3rd Qu.:15.0                     3rd Qu.:38.00   3rd Qu.: 8.060  \n",
              " Max.   :30.0                     Max.   :85.00   Max.   :11.750  \n",
              " NA's   :9                        NA's   :27                      \n",
              " lowbirthweight    gender          habit          whitemom  \n",
              " low    :111    female:503   nonsmoker:873   not white:284  \n",
              " not low:889    male  :497   smoker   :126   white    :714  \n",
              "                             NA's     :  1   NA's     :  2  \n",
              "                                                            \n",
              "                                                            \n",
              "                                                            \n",
              "                                                            "
            ]
          },
          "metadata": {}
        },
        {
          "output_type": "stream",
          "name": "stdout",
          "text": [
            "── Data Summary ────────────────────────\n",
            "                           Values  \n",
            "Name                       ncbirths\n",
            "Number of rows             1000    \n",
            "Number of columns          13      \n",
            "_______________________            \n",
            "Column type frequency:             \n",
            "  factor                   7       \n",
            "  numeric                  6       \n",
            "________________________           \n",
            "Group variables            None    \n",
            "\n",
            "── Variable type: factor ───────────────────────────────────────────────────────\n",
            "  skim_variable  n_missing complete_rate ordered n_unique top_counts        \n",
            "\u001b[90m1\u001b[39m mature                 0         1     FALSE          2 you: 867, mat: 133\n",
            "\u001b[90m2\u001b[39m premie                 2         0.998 FALSE          2 ful: 846, pre: 152\n",
            "\u001b[90m3\u001b[39m marital                1         0.999 FALSE          2 mar: 613, not: 386\n",
            "\u001b[90m4\u001b[39m lowbirthweight         0         1     FALSE          2 not: 889, low: 111\n",
            "\u001b[90m5\u001b[39m gender                 0         1     FALSE          2 fem: 503, mal: 497\n",
            "\u001b[90m6\u001b[39m habit                  1         0.999 FALSE          2 non: 873, smo: 126\n",
            "\u001b[90m7\u001b[39m whitemom               2         0.998 FALSE          2 whi: 714, not: 284\n",
            "\n",
            "── Variable type: numeric ──────────────────────────────────────────────────────\n",
            "  skim_variable n_missing complete_rate  mean    sd p0   p25   p50   p75 p100\n",
            "\u001b[90m1\u001b[39m fage                171         0.829 30.3   6.76 14 25    30    35    55  \n",
            "\u001b[90m2\u001b[39m mage                  0         1     27     6.21 13 22    27    32    50  \n",
            "\u001b[90m3\u001b[39m weeks                 2         0.998 38.3   2.93 20 37    39    40    45  \n",
            "\u001b[90m4\u001b[39m visits                9         0.991 12.1   3.95  0 10    12    15    30  \n",
            "\u001b[90m5\u001b[39m gained               27         0.973 30.3  14.2   0 20    30    38    85  \n",
            "\u001b[90m6\u001b[39m weight                0         1      7.10  1.51  1  6.38  7.31  8.06 11.8\n",
            "  hist \n",
            "\u001b[90m1\u001b[39m ▃▇▇▂▁\n",
            "\u001b[90m2\u001b[39m ▃▇▇▂▁\n",
            "\u001b[90m3\u001b[39m ▁▁▁▇▂\n",
            "\u001b[90m4\u001b[39m ▂▇▇▁▁\n",
            "\u001b[90m5\u001b[39m ▂▇▅▁▁\n",
            "\u001b[90m6\u001b[39m ▁▁▇▇▁\n"
          ]
        },
        {
          "output_type": "stream",
          "name": "stderr",
          "text": [
            "Warning message in is.null(text_repr) || nchar(text_repr) == 0L:\n",
            "“'length(x) = 2 > 1' in coercion to 'logical(1)'”\n"
          ]
        }
      ]
    },
    {
      "cell_type": "markdown",
      "source": [
        "2. \\\n",
        "\n",
        "Summary of the dataset is shown above. Here are the list of categorical and numerical.\n",
        "\n",
        "**Categorial**: mature, premie, marital, lowbirthweight, gender, habit, whitemom\n",
        "\n",
        "**Numerical**: fage, mage, weeks, visits, gained, weight\n",
        "\n",
        "The week and the weight are the outliers because if you look at the histogram shown above, majority of 3 and 6 focus towards the end, but there are low numbers in the data."
      ],
      "metadata": {
        "id": "RFfjaSdW8gef"
      }
    },
    {
      "cell_type": "code",
      "source": [
        "#3\n",
        "ncbirths_white <- ncbirths %>%\n",
        "  filter(whitemom == \"white\")\n",
        "\n",
        "ncbirths_white %>%\n",
        "  summarize(mean = mean(weight))"
      ],
      "metadata": {
        "colab": {
          "base_uri": "https://localhost:8080/",
          "height": 147
        },
        "id": "D3kMqK3R9EVz",
        "outputId": "3175daa2-0990-48b4-9d0e-8d1fb7cbc3b5"
      },
      "execution_count": null,
      "outputs": [
        {
          "output_type": "display_data",
          "data": {
            "text/html": [
              "<table class=\"dataframe\">\n",
              "<caption>A tibble: 1 × 1</caption>\n",
              "<thead>\n",
              "\t<tr><th scope=col>mean</th></tr>\n",
              "\t<tr><th scope=col>&lt;dbl&gt;</th></tr>\n",
              "</thead>\n",
              "<tbody>\n",
              "\t<tr><td>7.250462</td></tr>\n",
              "</tbody>\n",
              "</table>\n"
            ],
            "text/markdown": "\nA tibble: 1 × 1\n\n| mean &lt;dbl&gt; |\n|---|\n| 7.250462 |\n\n",
            "text/latex": "A tibble: 1 × 1\n\\begin{tabular}{l}\n mean\\\\\n <dbl>\\\\\n\\hline\n\t 7.250462\\\\\n\\end{tabular}\n",
            "text/plain": [
              "  mean    \n",
              "1 7.250462"
            ]
          },
          "metadata": {}
        }
      ]
    },
    {
      "cell_type": "markdown",
      "source": [
        "3. The mean of the weights of the babies from white mothers is 7.25 lbs."
      ],
      "metadata": {
        "id": "xKClJtsSAAGN"
      }
    },
    {
      "cell_type": "code",
      "source": [
        "4.\n",
        "ggplot(ncbirths_white, aes(x = weight)) + geom_histogram()"
      ],
      "metadata": {
        "colab": {
          "base_uri": "https://localhost:8080/",
          "height": 454
        },
        "id": "EzZBL4-XBdK7",
        "outputId": "df2c1419-4c96-4d03-fe50-39fe72c49208"
      },
      "execution_count": null,
      "outputs": [
        {
          "output_type": "stream",
          "name": "stderr",
          "text": [
            "\u001b[1m\u001b[22m`stat_bin()` using `bins = 30`. Pick better value with `binwidth`.\n"
          ]
        },
        {
          "output_type": "display_data",
          "data": {
            "text/plain": [
              "plot without title"
            ],
            "image/png": "[encoded data removed]"
          },
          "metadata": {
            "image/png": {
              "width": 420,
              "height": 420
            }
          }
        }
      ]
    },
    {
      "cell_type": "markdown",
      "source": [
        "4.\n",
        "Conditions are necessary because it is non normal."
      ],
      "metadata": {
        "id": "pIP_qE2kCI3h"
      }
    },
    {
      "cell_type": "code",
      "source": [
        "#5\n",
        "boost <- ncbirths_white %>%\n",
        "  specify(response = weight) %>%\n",
        "  generate(reps = 15000, type = \"bootstrap\") %>%\n",
        "  calculate(stat = \"mean\")\n",
        "\n",
        "boost"
      ],
      "metadata": {
        "colab": {
          "base_uri": "https://localhost:8080/",
          "height": 1000
        },
        "id": "viuOOXDqCM4B",
        "outputId": "976676ca-db1c-4210-a879-becf6feb6379"
      },
      "execution_count": null,
      "outputs": [
        {
          "output_type": "display_data",
          "data": {
            "text/html": [
              "<table class=\"dataframe\">\n",
              "<caption>A infer: 15000 × 2</caption>\n",
              "<thead>\n",
              "\t<tr><th scope=col>replicate</th><th scope=col>stat</th></tr>\n",
              "\t<tr><th scope=col>&lt;int&gt;</th><th scope=col>&lt;dbl&gt;</th></tr>\n",
              "</thead>\n",
              "<tbody>\n",
              "\t<tr><td> 1</td><td>7.180462</td></tr>\n",
              "\t<tr><td> 2</td><td>7.212871</td></tr>\n",
              "\t<tr><td> 3</td><td>7.320938</td></tr>\n",
              "\t<tr><td> 4</td><td>7.289370</td></tr>\n",
              "\t<tr><td> 5</td><td>7.400406</td></tr>\n",
              "\t<tr><td> 6</td><td>7.238922</td></tr>\n",
              "\t<tr><td> 7</td><td>7.240784</td></tr>\n",
              "\t<tr><td> 8</td><td>7.331275</td></tr>\n",
              "\t<tr><td> 9</td><td>7.199496</td></tr>\n",
              "\t<tr><td>10</td><td>7.290644</td></tr>\n",
              "\t<tr><td>11</td><td>7.297913</td></tr>\n",
              "\t<tr><td>12</td><td>7.213866</td></tr>\n",
              "\t<tr><td>13</td><td>7.247563</td></tr>\n",
              "\t<tr><td>14</td><td>7.184370</td></tr>\n",
              "\t<tr><td>15</td><td>7.193403</td></tr>\n",
              "\t<tr><td>16</td><td>7.195084</td></tr>\n",
              "\t<tr><td>17</td><td>7.235756</td></tr>\n",
              "\t<tr><td>18</td><td>7.284972</td></tr>\n",
              "\t<tr><td>19</td><td>7.271443</td></tr>\n",
              "\t<tr><td>20</td><td>7.152885</td></tr>\n",
              "\t<tr><td>21</td><td>7.330098</td></tr>\n",
              "\t<tr><td>22</td><td>7.238697</td></tr>\n",
              "\t<tr><td>23</td><td>7.257605</td></tr>\n",
              "\t<tr><td>24</td><td>7.251415</td></tr>\n",
              "\t<tr><td>25</td><td>7.135000</td></tr>\n",
              "\t<tr><td>26</td><td>7.207899</td></tr>\n",
              "\t<tr><td>27</td><td>7.147941</td></tr>\n",
              "\t<tr><td>28</td><td>7.307955</td></tr>\n",
              "\t<tr><td>29</td><td>7.210056</td></tr>\n",
              "\t<tr><td>30</td><td>7.261583</td></tr>\n",
              "\t<tr><td>⋮</td><td>⋮</td></tr>\n",
              "\t<tr><td>14971</td><td>7.345854</td></tr>\n",
              "\t<tr><td>14972</td><td>7.202689</td></tr>\n",
              "\t<tr><td>14973</td><td>7.262605</td></tr>\n",
              "\t<tr><td>14974</td><td>7.266190</td></tr>\n",
              "\t<tr><td>14975</td><td>7.160784</td></tr>\n",
              "\t<tr><td>14976</td><td>7.279034</td></tr>\n",
              "\t<tr><td>14977</td><td>7.324342</td></tr>\n",
              "\t<tr><td>14978</td><td>7.181345</td></tr>\n",
              "\t<tr><td>14979</td><td>7.238655</td></tr>\n",
              "\t<tr><td>14980</td><td>7.307647</td></tr>\n",
              "\t<tr><td>14981</td><td>7.237927</td></tr>\n",
              "\t<tr><td>14982</td><td>7.225462</td></tr>\n",
              "\t<tr><td>14983</td><td>7.315854</td></tr>\n",
              "\t<tr><td>14984</td><td>7.363796</td></tr>\n",
              "\t<tr><td>14985</td><td>7.310616</td></tr>\n",
              "\t<tr><td>14986</td><td>7.237731</td></tr>\n",
              "\t<tr><td>14987</td><td>7.305994</td></tr>\n",
              "\t<tr><td>14988</td><td>7.260952</td></tr>\n",
              "\t<tr><td>14989</td><td>7.291877</td></tr>\n",
              "\t<tr><td>14990</td><td>7.226190</td></tr>\n",
              "\t<tr><td>14991</td><td>7.227829</td></tr>\n",
              "\t<tr><td>14992</td><td>7.165476</td></tr>\n",
              "\t<tr><td>14993</td><td>7.255070</td></tr>\n",
              "\t<tr><td>14994</td><td>7.251639</td></tr>\n",
              "\t<tr><td>14995</td><td>7.237717</td></tr>\n",
              "\t<tr><td>14996</td><td>7.239650</td></tr>\n",
              "\t<tr><td>14997</td><td>7.315714</td></tr>\n",
              "\t<tr><td>14998</td><td>7.185252</td></tr>\n",
              "\t<tr><td>14999</td><td>7.255322</td></tr>\n",
              "\t<tr><td>15000</td><td>7.229370</td></tr>\n",
              "</tbody>\n",
              "</table>\n"
            ],
            "text/markdown": "\nA infer: 15000 × 2\n\n| replicate &lt;int&gt; | stat &lt;dbl&gt; |\n|---|---|\n|  1 | 7.180462 |\n|  2 | 7.212871 |\n|  3 | 7.320938 |\n|  4 | 7.289370 |\n|  5 | 7.400406 |\n|  6 | 7.238922 |\n|  7 | 7.240784 |\n|  8 | 7.331275 |\n|  9 | 7.199496 |\n| 10 | 7.290644 |\n| 11 | 7.297913 |\n| 12 | 7.213866 |\n| 13 | 7.247563 |\n| 14 | 7.184370 |\n| 15 | 7.193403 |\n| 16 | 7.195084 |\n| 17 | 7.235756 |\n| 18 | 7.284972 |\n| 19 | 7.271443 |\n| 20 | 7.152885 |\n| 21 | 7.330098 |\n| 22 | 7.238697 |\n| 23 | 7.257605 |\n| 24 | 7.251415 |\n| 25 | 7.135000 |\n| 26 | 7.207899 |\n| 27 | 7.147941 |\n| 28 | 7.307955 |\n| 29 | 7.210056 |\n| 30 | 7.261583 |\n| ⋮ | ⋮ |\n| 14971 | 7.345854 |\n| 14972 | 7.202689 |\n| 14973 | 7.262605 |\n| 14974 | 7.266190 |\n| 14975 | 7.160784 |\n| 14976 | 7.279034 |\n| 14977 | 7.324342 |\n| 14978 | 7.181345 |\n| 14979 | 7.238655 |\n| 14980 | 7.307647 |\n| 14981 | 7.237927 |\n| 14982 | 7.225462 |\n| 14983 | 7.315854 |\n| 14984 | 7.363796 |\n| 14985 | 7.310616 |\n| 14986 | 7.237731 |\n| 14987 | 7.305994 |\n| 14988 | 7.260952 |\n| 14989 | 7.291877 |\n| 14990 | 7.226190 |\n| 14991 | 7.227829 |\n| 14992 | 7.165476 |\n| 14993 | 7.255070 |\n| 14994 | 7.251639 |\n| 14995 | 7.237717 |\n| 14996 | 7.239650 |\n| 14997 | 7.315714 |\n| 14998 | 7.185252 |\n| 14999 | 7.255322 |\n| 15000 | 7.229370 |\n\n",
            "text/latex": "A infer: 15000 × 2\n\\begin{tabular}{ll}\n replicate & stat\\\\\n <int> & <dbl>\\\\\n\\hline\n\t  1 & 7.180462\\\\\n\t  2 & 7.212871\\\\\n\t  3 & 7.320938\\\\\n\t  4 & 7.289370\\\\\n\t  5 & 7.400406\\\\\n\t  6 & 7.238922\\\\\n\t  7 & 7.240784\\\\\n\t  8 & 7.331275\\\\\n\t  9 & 7.199496\\\\\n\t 10 & 7.290644\\\\\n\t 11 & 7.297913\\\\\n\t 12 & 7.213866\\\\\n\t 13 & 7.247563\\\\\n\t 14 & 7.184370\\\\\n\t 15 & 7.193403\\\\\n\t 16 & 7.195084\\\\\n\t 17 & 7.235756\\\\\n\t 18 & 7.284972\\\\\n\t 19 & 7.271443\\\\\n\t 20 & 7.152885\\\\\n\t 21 & 7.330098\\\\\n\t 22 & 7.238697\\\\\n\t 23 & 7.257605\\\\\n\t 24 & 7.251415\\\\\n\t 25 & 7.135000\\\\\n\t 26 & 7.207899\\\\\n\t 27 & 7.147941\\\\\n\t 28 & 7.307955\\\\\n\t 29 & 7.210056\\\\\n\t 30 & 7.261583\\\\\n\t ⋮ & ⋮\\\\\n\t 14971 & 7.345854\\\\\n\t 14972 & 7.202689\\\\\n\t 14973 & 7.262605\\\\\n\t 14974 & 7.266190\\\\\n\t 14975 & 7.160784\\\\\n\t 14976 & 7.279034\\\\\n\t 14977 & 7.324342\\\\\n\t 14978 & 7.181345\\\\\n\t 14979 & 7.238655\\\\\n\t 14980 & 7.307647\\\\\n\t 14981 & 7.237927\\\\\n\t 14982 & 7.225462\\\\\n\t 14983 & 7.315854\\\\\n\t 14984 & 7.363796\\\\\n\t 14985 & 7.310616\\\\\n\t 14986 & 7.237731\\\\\n\t 14987 & 7.305994\\\\\n\t 14988 & 7.260952\\\\\n\t 14989 & 7.291877\\\\\n\t 14990 & 7.226190\\\\\n\t 14991 & 7.227829\\\\\n\t 14992 & 7.165476\\\\\n\t 14993 & 7.255070\\\\\n\t 14994 & 7.251639\\\\\n\t 14995 & 7.237717\\\\\n\t 14996 & 7.239650\\\\\n\t 14997 & 7.315714\\\\\n\t 14998 & 7.185252\\\\\n\t 14999 & 7.255322\\\\\n\t 15000 & 7.229370\\\\\n\\end{tabular}\n",
            "text/plain": [
              "      replicate stat    \n",
              "1      1        7.180462\n",
              "2      2        7.212871\n",
              "3      3        7.320938\n",
              "4      4        7.289370\n",
              "5      5        7.400406\n",
              "6      6        7.238922\n",
              "7      7        7.240784\n",
              "8      8        7.331275\n",
              "9      9        7.199496\n",
              "10    10        7.290644\n",
              "11    11        7.297913\n",
              "12    12        7.213866\n",
              "13    13        7.247563\n",
              "14    14        7.184370\n",
              "15    15        7.193403\n",
              "16    16        7.195084\n",
              "17    17        7.235756\n",
              "18    18        7.284972\n",
              "19    19        7.271443\n",
              "20    20        7.152885\n",
              "21    21        7.330098\n",
              "22    22        7.238697\n",
              "23    23        7.257605\n",
              "24    24        7.251415\n",
              "25    25        7.135000\n",
              "26    26        7.207899\n",
              "27    27        7.147941\n",
              "28    28        7.307955\n",
              "29    29        7.210056\n",
              "30    30        7.261583\n",
              "⋮     ⋮         ⋮       \n",
              "14971 14971     7.345854\n",
              "14972 14972     7.202689\n",
              "14973 14973     7.262605\n",
              "14974 14974     7.266190\n",
              "14975 14975     7.160784\n",
              "14976 14976     7.279034\n",
              "14977 14977     7.324342\n",
              "14978 14978     7.181345\n",
              "14979 14979     7.238655\n",
              "14980 14980     7.307647\n",
              "14981 14981     7.237927\n",
              "14982 14982     7.225462\n",
              "14983 14983     7.315854\n",
              "14984 14984     7.363796\n",
              "14985 14985     7.310616\n",
              "14986 14986     7.237731\n",
              "14987 14987     7.305994\n",
              "14988 14988     7.260952\n",
              "14989 14989     7.291877\n",
              "14990 14990     7.226190\n",
              "14991 14991     7.227829\n",
              "14992 14992     7.165476\n",
              "14993 14993     7.255070\n",
              "14994 14994     7.251639\n",
              "14995 14995     7.237717\n",
              "14996 14996     7.239650\n",
              "14997 14997     7.315714\n",
              "14998 14998     7.185252\n",
              "14999 14999     7.255322\n",
              "15000 15000     7.229370"
            ]
          },
          "metadata": {}
        }
      ]
    },
    {
      "cell_type": "code",
      "source": [
        "ggplot(data = boost, mapping = aes(x = stat)) +\n",
        "  geom_histogram(binwidth = 0.007) +\n",
        "  labs(title = \"Bootstrap distribution of means\")"
      ],
      "metadata": {
        "colab": {
          "base_uri": "https://localhost:8080/",
          "height": 437
        },
        "id": "Ob5dZ4_gE5nN",
        "outputId": "15304483-ea82-4b79-e0c3-d7b75e8658a3"
      },
      "execution_count": null,
      "outputs": [
        {
          "output_type": "display_data",
          "data": {
            "text/plain": [
              "plot without title"
            ],
            "image/png": "[encoded data removed]"
          },
          "metadata": {
            "image/png": {
              "width": 420,
              "height": 420
            }
          }
        }
      ]
    },
    {
      "cell_type": "code",
      "source": [
        "boost %>%\n",
        "  summarize(lower = quantile(stat, 0.025),\n",
        "            upper = quantile(stat, 0.975))"
      ],
      "metadata": {
        "colab": {
          "base_uri": "https://localhost:8080/",
          "height": 129
        },
        "id": "fceJBwCFGSNx",
        "outputId": "db20b37b-53a9-47ca-a4b2-ca1e7f4e42ba"
      },
      "execution_count": null,
      "outputs": [
        {
          "output_type": "display_data",
          "data": {
            "text/html": [
              "<table class=\"dataframe\">\n",
              "<caption>A tibble: 1 × 2</caption>\n",
              "<thead>\n",
              "\t<tr><th scope=col>lower</th><th scope=col>upper</th></tr>\n",
              "\t<tr><th scope=col>&lt;dbl&gt;</th><th scope=col>&lt;dbl&gt;</th></tr>\n",
              "</thead>\n",
              "<tbody>\n",
              "\t<tr><td>7.145672</td><td>7.35472</td></tr>\n",
              "</tbody>\n",
              "</table>\n"
            ],
            "text/markdown": "\nA tibble: 1 × 2\n\n| lower &lt;dbl&gt; | upper &lt;dbl&gt; |\n|---|---|\n| 7.145672 | 7.35472 |\n\n",
            "text/latex": "A tibble: 1 × 2\n\\begin{tabular}{ll}\n lower & upper\\\\\n <dbl> & <dbl>\\\\\n\\hline\n\t 7.145672 & 7.35472\\\\\n\\end{tabular}\n",
            "text/plain": [
              "  lower    upper  \n",
              "1 7.145672 7.35472"
            ]
          },
          "metadata": {}
        }
      ]
    },
    {
      "cell_type": "code",
      "source": [
        "null_dist <- ncbirths_white %>%\n",
        "  specify(response = weight) %>%\n",
        "  hypothesize(null = \"point\", mu = 7.43) %>%\n",
        "  generate(reps = 15000, type = \"bootstrap\") %>%\n",
        "  calculate(stat = \"mean\")\n",
        "\n",
        "null_dist\n",
        "\n",
        "ggplot(data = null_dist, mapping = aes(x = stat)) +\n",
        "  geom_histogram(binwidth = 0.01) +\n",
        "  labs(title = \"Null Distribution\")"
      ],
      "metadata": {
        "colab": {
          "base_uri": "https://localhost:8080/",
          "height": 1000
        },
        "id": "QjZLBFHvJSx0",
        "outputId": "05b8615e-9aea-430d-d7b5-f94735979633"
      },
      "execution_count": null,
      "outputs": [
        {
          "output_type": "display_data",
          "data": {
            "text/html": [
              "<table class=\"dataframe\">\n",
              "<caption>A infer: 15000 × 2</caption>\n",
              "<thead>\n",
              "\t<tr><th scope=col>replicate</th><th scope=col>stat</th></tr>\n",
              "\t<tr><th scope=col>&lt;int&gt;</th><th scope=col>&lt;dbl&gt;</th></tr>\n",
              "</thead>\n",
              "<tbody>\n",
              "\t<tr><td> 1</td><td>7.461513</td></tr>\n",
              "\t<tr><td> 2</td><td>7.462955</td></tr>\n",
              "\t<tr><td> 3</td><td>7.426246</td></tr>\n",
              "\t<tr><td> 4</td><td>7.370742</td></tr>\n",
              "\t<tr><td> 5</td><td>7.365686</td></tr>\n",
              "\t<tr><td> 6</td><td>7.378992</td></tr>\n",
              "\t<tr><td> 7</td><td>7.441092</td></tr>\n",
              "\t<tr><td> 8</td><td>7.411611</td></tr>\n",
              "\t<tr><td> 9</td><td>7.429174</td></tr>\n",
              "\t<tr><td>10</td><td>7.409146</td></tr>\n",
              "\t<tr><td>11</td><td>7.371275</td></tr>\n",
              "\t<tr><td>12</td><td>7.470392</td></tr>\n",
              "\t<tr><td>13</td><td>7.391176</td></tr>\n",
              "\t<tr><td>14</td><td>7.408992</td></tr>\n",
              "\t<tr><td>15</td><td>7.493053</td></tr>\n",
              "\t<tr><td>16</td><td>7.344076</td></tr>\n",
              "\t<tr><td>17</td><td>7.508263</td></tr>\n",
              "\t<tr><td>18</td><td>7.324272</td></tr>\n",
              "\t<tr><td>19</td><td>7.504020</td></tr>\n",
              "\t<tr><td>20</td><td>7.398403</td></tr>\n",
              "\t<tr><td>21</td><td>7.380686</td></tr>\n",
              "\t<tr><td>22</td><td>7.366499</td></tr>\n",
              "\t<tr><td>23</td><td>7.431723</td></tr>\n",
              "\t<tr><td>24</td><td>7.446583</td></tr>\n",
              "\t<tr><td>25</td><td>7.486162</td></tr>\n",
              "\t<tr><td>26</td><td>7.521751</td></tr>\n",
              "\t<tr><td>27</td><td>7.453739</td></tr>\n",
              "\t<tr><td>28</td><td>7.340994</td></tr>\n",
              "\t<tr><td>29</td><td>7.464412</td></tr>\n",
              "\t<tr><td>30</td><td>7.460532</td></tr>\n",
              "\t<tr><td>⋮</td><td>⋮</td></tr>\n",
              "\t<tr><td>14971</td><td>7.437997</td></tr>\n",
              "\t<tr><td>14972</td><td>7.358445</td></tr>\n",
              "\t<tr><td>14973</td><td>7.442395</td></tr>\n",
              "\t<tr><td>14974</td><td>7.424384</td></tr>\n",
              "\t<tr><td>14975</td><td>7.375882</td></tr>\n",
              "\t<tr><td>14976</td><td>7.371387</td></tr>\n",
              "\t<tr><td>14977</td><td>7.496737</td></tr>\n",
              "\t<tr><td>14978</td><td>7.460084</td></tr>\n",
              "\t<tr><td>14979</td><td>7.430518</td></tr>\n",
              "\t<tr><td>14980</td><td>7.418151</td></tr>\n",
              "\t<tr><td>14981</td><td>7.418375</td></tr>\n",
              "\t<tr><td>14982</td><td>7.495252</td></tr>\n",
              "\t<tr><td>14983</td><td>7.496863</td></tr>\n",
              "\t<tr><td>14984</td><td>7.384706</td></tr>\n",
              "\t<tr><td>14985</td><td>7.384258</td></tr>\n",
              "\t<tr><td>14986</td><td>7.335546</td></tr>\n",
              "\t<tr><td>14987</td><td>7.441877</td></tr>\n",
              "\t<tr><td>14988</td><td>7.464076</td></tr>\n",
              "\t<tr><td>14989</td><td>7.468053</td></tr>\n",
              "\t<tr><td>14990</td><td>7.427311</td></tr>\n",
              "\t<tr><td>14991</td><td>7.387353</td></tr>\n",
              "\t<tr><td>14992</td><td>7.483487</td></tr>\n",
              "\t<tr><td>14993</td><td>7.401246</td></tr>\n",
              "\t<tr><td>14994</td><td>7.507297</td></tr>\n",
              "\t<tr><td>14995</td><td>7.444454</td></tr>\n",
              "\t<tr><td>14996</td><td>7.390084</td></tr>\n",
              "\t<tr><td>14997</td><td>7.389860</td></tr>\n",
              "\t<tr><td>14998</td><td>7.352885</td></tr>\n",
              "\t<tr><td>14999</td><td>7.400784</td></tr>\n",
              "\t<tr><td>15000</td><td>7.359874</td></tr>\n",
              "</tbody>\n",
              "</table>\n"
            ],
            "text/markdown": "\nA infer: 15000 × 2\n\n| replicate &lt;int&gt; | stat &lt;dbl&gt; |\n|---|---|\n|  1 | 7.461513 |\n|  2 | 7.462955 |\n|  3 | 7.426246 |\n|  4 | 7.370742 |\n|  5 | 7.365686 |\n|  6 | 7.378992 |\n|  7 | 7.441092 |\n|  8 | 7.411611 |\n|  9 | 7.429174 |\n| 10 | 7.409146 |\n| 11 | 7.371275 |\n| 12 | 7.470392 |\n| 13 | 7.391176 |\n| 14 | 7.408992 |\n| 15 | 7.493053 |\n| 16 | 7.344076 |\n| 17 | 7.508263 |\n| 18 | 7.324272 |\n| 19 | 7.504020 |\n| 20 | 7.398403 |\n| 21 | 7.380686 |\n| 22 | 7.366499 |\n| 23 | 7.431723 |\n| 24 | 7.446583 |\n| 25 | 7.486162 |\n| 26 | 7.521751 |\n| 27 | 7.453739 |\n| 28 | 7.340994 |\n| 29 | 7.464412 |\n| 30 | 7.460532 |\n| ⋮ | ⋮ |\n| 14971 | 7.437997 |\n| 14972 | 7.358445 |\n| 14973 | 7.442395 |\n| 14974 | 7.424384 |\n| 14975 | 7.375882 |\n| 14976 | 7.371387 |\n| 14977 | 7.496737 |\n| 14978 | 7.460084 |\n| 14979 | 7.430518 |\n| 14980 | 7.418151 |\n| 14981 | 7.418375 |\n| 14982 | 7.495252 |\n| 14983 | 7.496863 |\n| 14984 | 7.384706 |\n| 14985 | 7.384258 |\n| 14986 | 7.335546 |\n| 14987 | 7.441877 |\n| 14988 | 7.464076 |\n| 14989 | 7.468053 |\n| 14990 | 7.427311 |\n| 14991 | 7.387353 |\n| 14992 | 7.483487 |\n| 14993 | 7.401246 |\n| 14994 | 7.507297 |\n| 14995 | 7.444454 |\n| 14996 | 7.390084 |\n| 14997 | 7.389860 |\n| 14998 | 7.352885 |\n| 14999 | 7.400784 |\n| 15000 | 7.359874 |\n\n",
            "text/latex": "A infer: 15000 × 2\n\\begin{tabular}{ll}\n replicate & stat\\\\\n <int> & <dbl>\\\\\n\\hline\n\t  1 & 7.461513\\\\\n\t  2 & 7.462955\\\\\n\t  3 & 7.426246\\\\\n\t  4 & 7.370742\\\\\n\t  5 & 7.365686\\\\\n\t  6 & 7.378992\\\\\n\t  7 & 7.441092\\\\\n\t  8 & 7.411611\\\\\n\t  9 & 7.429174\\\\\n\t 10 & 7.409146\\\\\n\t 11 & 7.371275\\\\\n\t 12 & 7.470392\\\\\n\t 13 & 7.391176\\\\\n\t 14 & 7.408992\\\\\n\t 15 & 7.493053\\\\\n\t 16 & 7.344076\\\\\n\t 17 & 7.508263\\\\\n\t 18 & 7.324272\\\\\n\t 19 & 7.504020\\\\\n\t 20 & 7.398403\\\\\n\t 21 & 7.380686\\\\\n\t 22 & 7.366499\\\\\n\t 23 & 7.431723\\\\\n\t 24 & 7.446583\\\\\n\t 25 & 7.486162\\\\\n\t 26 & 7.521751\\\\\n\t 27 & 7.453739\\\\\n\t 28 & 7.340994\\\\\n\t 29 & 7.464412\\\\\n\t 30 & 7.460532\\\\\n\t ⋮ & ⋮\\\\\n\t 14971 & 7.437997\\\\\n\t 14972 & 7.358445\\\\\n\t 14973 & 7.442395\\\\\n\t 14974 & 7.424384\\\\\n\t 14975 & 7.375882\\\\\n\t 14976 & 7.371387\\\\\n\t 14977 & 7.496737\\\\\n\t 14978 & 7.460084\\\\\n\t 14979 & 7.430518\\\\\n\t 14980 & 7.418151\\\\\n\t 14981 & 7.418375\\\\\n\t 14982 & 7.495252\\\\\n\t 14983 & 7.496863\\\\\n\t 14984 & 7.384706\\\\\n\t 14985 & 7.384258\\\\\n\t 14986 & 7.335546\\\\\n\t 14987 & 7.441877\\\\\n\t 14988 & 7.464076\\\\\n\t 14989 & 7.468053\\\\\n\t 14990 & 7.427311\\\\\n\t 14991 & 7.387353\\\\\n\t 14992 & 7.483487\\\\\n\t 14993 & 7.401246\\\\\n\t 14994 & 7.507297\\\\\n\t 14995 & 7.444454\\\\\n\t 14996 & 7.390084\\\\\n\t 14997 & 7.389860\\\\\n\t 14998 & 7.352885\\\\\n\t 14999 & 7.400784\\\\\n\t 15000 & 7.359874\\\\\n\\end{tabular}\n",
            "text/plain": [
              "      replicate stat    \n",
              "1      1        7.461513\n",
              "2      2        7.462955\n",
              "3      3        7.426246\n",
              "4      4        7.370742\n",
              "5      5        7.365686\n",
              "6      6        7.378992\n",
              "7      7        7.441092\n",
              "8      8        7.411611\n",
              "9      9        7.429174\n",
              "10    10        7.409146\n",
              "11    11        7.371275\n",
              "12    12        7.470392\n",
              "13    13        7.391176\n",
              "14    14        7.408992\n",
              "15    15        7.493053\n",
              "16    16        7.344076\n",
              "17    17        7.508263\n",
              "18    18        7.324272\n",
              "19    19        7.504020\n",
              "20    20        7.398403\n",
              "21    21        7.380686\n",
              "22    22        7.366499\n",
              "23    23        7.431723\n",
              "24    24        7.446583\n",
              "25    25        7.486162\n",
              "26    26        7.521751\n",
              "27    27        7.453739\n",
              "28    28        7.340994\n",
              "29    29        7.464412\n",
              "30    30        7.460532\n",
              "⋮     ⋮         ⋮       \n",
              "14971 14971     7.437997\n",
              "14972 14972     7.358445\n",
              "14973 14973     7.442395\n",
              "14974 14974     7.424384\n",
              "14975 14975     7.375882\n",
              "14976 14976     7.371387\n",
              "14977 14977     7.496737\n",
              "14978 14978     7.460084\n",
              "14979 14979     7.430518\n",
              "14980 14980     7.418151\n",
              "14981 14981     7.418375\n",
              "14982 14982     7.495252\n",
              "14983 14983     7.496863\n",
              "14984 14984     7.384706\n",
              "14985 14985     7.384258\n",
              "14986 14986     7.335546\n",
              "14987 14987     7.441877\n",
              "14988 14988     7.464076\n",
              "14989 14989     7.468053\n",
              "14990 14990     7.427311\n",
              "14991 14991     7.387353\n",
              "14992 14992     7.483487\n",
              "14993 14993     7.401246\n",
              "14994 14994     7.507297\n",
              "14995 14995     7.444454\n",
              "14996 14996     7.390084\n",
              "14997 14997     7.389860\n",
              "14998 14998     7.352885\n",
              "14999 14999     7.400784\n",
              "15000 15000     7.359874"
            ]
          },
          "metadata": {}
        },
        {
          "output_type": "display_data",
          "data": {
            "text/plain": [
              "plot without title"
            ],
            "image/png": "[encoded data removed]"
          },
          "metadata": {
            "image/png": {
              "width": 420,
              "height": 420
            }
          }
        }
      ]
    },
    {
      "cell_type": "code",
      "source": [
        "null_dist %>%\n",
        "  get_pvalue(obs_stat = 7.250462, direction = \"less\")"
      ],
      "metadata": {
        "colab": {
          "base_uri": "https://localhost:8080/",
          "height": 147
        },
        "id": "Hu7Y3NL0Gc6n",
        "outputId": "1cf0dccd-d831-4dfc-a17d-86aaa0aaa6ce"
      },
      "execution_count": null,
      "outputs": [
        {
          "output_type": "display_data",
          "data": {
            "text/html": [
              "<table class=\"dataframe\">\n",
              "<caption>A tibble: 1 × 1</caption>\n",
              "<thead>\n",
              "\t<tr><th scope=col>p_value</th></tr>\n",
              "\t<tr><th scope=col>&lt;dbl&gt;</th></tr>\n",
              "</thead>\n",
              "<tbody>\n",
              "\t<tr><td>4e-04</td></tr>\n",
              "</tbody>\n",
              "</table>\n"
            ],
            "text/markdown": "\nA tibble: 1 × 1\n\n| p_value &lt;dbl&gt; |\n|---|\n| 4e-04 |\n\n",
            "text/latex": "A tibble: 1 × 1\n\\begin{tabular}{l}\n p\\_value\\\\\n <dbl>\\\\\n\\hline\n\t 4e-04\\\\\n\\end{tabular}\n",
            "text/plain": [
              "  p_value\n",
              "1 4e-04  "
            ]
          },
          "metadata": {}
        }
      ]
    },
    {
      "cell_type": "markdown",
      "source": [
        "5.\\\n",
        "By calculating all the data,\n",
        "\n",
        "mean of the weight: 7.250462\n",
        "p value: 4e-04\n",
        "\n",
        "This means that p value is very small and we are rejecting the null hypothesis."
      ],
      "metadata": {
        "id": "qE_XybzHL7S8"
      }
    },
    {
      "cell_type": "code",
      "source": [
        "#6\n",
        "ggplot(ncbirths, aes(x=weight, y=habit)) + geom_boxplot()"
      ],
      "metadata": {
        "colab": {
          "base_uri": "https://localhost:8080/",
          "height": 437
        },
        "id": "jISDKbX3LyS8",
        "outputId": "d4da656c-4391-4f85-f86d-459d6c8965f8"
      },
      "execution_count": null,
      "outputs": [
        {
          "output_type": "display_data",
          "data": {
            "text/plain": [
              "plot without title"
            ],
            "image/png": "[encoded data removed]"
          },
          "metadata": {
            "image/png": {
              "width": 420,
              "height": 420
            }
          }
        }
      ]
    },
    {
      "cell_type": "markdown",
      "source": [
        "6. Non-smoker mother data has a higher baby weight than smoker mother data."
      ],
      "metadata": {
        "id": "VySGdc_ONEC-"
      }
    },
    {
      "cell_type": "code",
      "source": [
        "#7\n",
        "ncbirths_habitgiven <- ncbirths %>%\n",
        "  filter(habit == \"nonsmoker\" | habit == \"smoker\")"
      ],
      "metadata": {
        "id": "Bs43adZWNRUL"
      },
      "execution_count": null,
      "outputs": []
    },
    {
      "cell_type": "code",
      "source": [
        "#8\n",
        "ncbirths_habitgiven %>%\n",
        "group_by(habit) %>%\n",
        "summarise(mean_weight = mean(weight))"
      ],
      "metadata": {
        "colab": {
          "base_uri": "https://localhost:8080/",
          "height": 161
        },
        "id": "oliHfbCNOK0n",
        "outputId": "ea97d09a-c006-4292-b583-8a3ca6880006"
      },
      "execution_count": null,
      "outputs": [
        {
          "output_type": "display_data",
          "data": {
            "text/html": [
              "<table class=\"dataframe\">\n",
              "<caption>A tibble: 2 × 2</caption>\n",
              "<thead>\n",
              "\t<tr><th scope=col>habit</th><th scope=col>mean_weight</th></tr>\n",
              "\t<tr><th scope=col>&lt;fct&gt;</th><th scope=col>&lt;dbl&gt;</th></tr>\n",
              "</thead>\n",
              "<tbody>\n",
              "\t<tr><td>nonsmoker</td><td>7.144273</td></tr>\n",
              "\t<tr><td>smoker   </td><td>6.828730</td></tr>\n",
              "</tbody>\n",
              "</table>\n"
            ],
            "text/markdown": "\nA tibble: 2 × 2\n\n| habit &lt;fct&gt; | mean_weight &lt;dbl&gt; |\n|---|---|\n| nonsmoker | 7.144273 |\n| smoker    | 6.828730 |\n\n",
            "text/latex": "A tibble: 2 × 2\n\\begin{tabular}{ll}\n habit & mean\\_weight\\\\\n <fct> & <dbl>\\\\\n\\hline\n\t nonsmoker & 7.144273\\\\\n\t smoker    & 6.828730\\\\\n\\end{tabular}\n",
            "text/plain": [
              "  habit     mean_weight\n",
              "1 nonsmoker 7.144273   \n",
              "2 smoker    6.828730   "
            ]
          },
          "metadata": {}
        }
      ]
    },
    {
      "cell_type": "markdown",
      "source": [
        "8.\\\n",
        "The null hypothesis should be the same. Alternative hypothesis should be different."
      ],
      "metadata": {
        "id": "46VsixVhOrvZ"
      }
    },
    {
      "cell_type": "markdown",
      "source": [
        "9.\n",
        "\n",
        "The conditions are necessary for conducting simulation based inference satisfied because we are doing the hypothesis testings."
      ],
      "metadata": {
        "id": "ANOkllxUQU2i"
      }
    },
    {
      "cell_type": "code",
      "source": [
        "#10\n",
        "null_habit <- ncbirths_habitgiven %>%\n",
        "  specify(formula = weight ~ habit) %>%\n",
        "    hypothesize(null = \"independence\") %>%\n",
        "      generate(reps = 15000, type = \"permute\") %>%\n",
        "        calculate(stat = \"diff in means\",\n",
        "                  order = c(\"smoker\",\"nonsmoker\"))\n",
        "\n",
        "null_habit\n",
        "\n",
        "\n",
        "difference_habit <- ncbirths_habitgiven %>%\n",
        "  specify(formula = weight ~ habit) %>%\n",
        "    calculate(stat = \"diff in means\",\n",
        "              order = c(\"smoker\",\"nonsmoker\"))\n",
        "\n",
        "difference_habit\n",
        "\n",
        "null_habit %>%\n",
        "  get_pvalue(difference_habit, direction = \"both\")"
      ],
      "metadata": {
        "colab": {
          "base_uri": "https://localhost:8080/",
          "height": 1000
        },
        "id": "4E6hZrHKR6-t",
        "outputId": "e1b9d0b3-1e09-4a36-c034-c38793499b81"
      },
      "execution_count": null,
      "outputs": [
        {
          "output_type": "display_data",
          "data": {
            "text/html": [
              "<table class=\"dataframe\">\n",
              "<caption>A infer: 15000 × 2</caption>\n",
              "<thead>\n",
              "\t<tr><th scope=col>replicate</th><th scope=col>stat</th></tr>\n",
              "\t<tr><th scope=col>&lt;int&gt;</th><th scope=col>&lt;dbl&gt;</th></tr>\n",
              "</thead>\n",
              "<tbody>\n",
              "\t<tr><td> 1</td><td> 0.074891998</td></tr>\n",
              "\t<tr><td> 2</td><td> 0.123753068</td></tr>\n",
              "\t<tr><td> 3</td><td>-0.116919489</td></tr>\n",
              "\t<tr><td> 4</td><td>-0.209192440</td></tr>\n",
              "\t<tr><td> 5</td><td> 0.134651448</td></tr>\n",
              "\t<tr><td> 6</td><td> 0.083429062</td></tr>\n",
              "\t<tr><td> 7</td><td>-0.034818360</td></tr>\n",
              "\t<tr><td> 8</td><td> 0.275240550</td></tr>\n",
              "\t<tr><td> 9</td><td>-0.179766814</td></tr>\n",
              "\t<tr><td>10</td><td>-0.158969072</td></tr>\n",
              "\t<tr><td>11</td><td> 0.176701031</td></tr>\n",
              "\t<tr><td>12</td><td>-0.209828179</td></tr>\n",
              "\t<tr><td>13</td><td>-0.037906235</td></tr>\n",
              "\t<tr><td>14</td><td>-0.136445754</td></tr>\n",
              "\t<tr><td>15</td><td>-0.112196858</td></tr>\n",
              "\t<tr><td>16</td><td> 0.306482572</td></tr>\n",
              "\t<tr><td>17</td><td>-0.096939126</td></tr>\n",
              "\t<tr><td>18</td><td>-0.040358370</td></tr>\n",
              "\t<tr><td>19</td><td>-0.059067256</td></tr>\n",
              "\t<tr><td>20</td><td> 0.156448208</td></tr>\n",
              "\t<tr><td>21</td><td>-0.240525282</td></tr>\n",
              "\t<tr><td>22</td><td> 0.087970054</td></tr>\n",
              "\t<tr><td>23</td><td> 0.046283751</td></tr>\n",
              "\t<tr><td>24</td><td> 0.283141875</td></tr>\n",
              "\t<tr><td>25</td><td>-0.023738341</td></tr>\n",
              "\t<tr><td>26</td><td>-0.003939617</td></tr>\n",
              "\t<tr><td>27</td><td> 0.131926853</td></tr>\n",
              "\t<tr><td>28</td><td>-0.075505646</td></tr>\n",
              "\t<tr><td>29</td><td>-0.021558665</td></tr>\n",
              "\t<tr><td>30</td><td> 0.121936672</td></tr>\n",
              "\t<tr><td>⋮</td><td>⋮</td></tr>\n",
              "\t<tr><td>14971</td><td> 0.2268335788</td></tr>\n",
              "\t<tr><td>14972</td><td> 0.0585444281</td></tr>\n",
              "\t<tr><td>14973</td><td>-0.0498944526</td></tr>\n",
              "\t<tr><td>14974</td><td> 0.1691629848</td></tr>\n",
              "\t<tr><td>14975</td><td>-0.0301865488</td></tr>\n",
              "\t<tr><td>14976</td><td>-0.0557977418</td></tr>\n",
              "\t<tr><td>14977</td><td> 0.2415463918</td></tr>\n",
              "\t<tr><td>14978</td><td>-0.2157314678</td></tr>\n",
              "\t<tr><td>14979</td><td> 0.0767992145</td></tr>\n",
              "\t<tr><td>14980</td><td> 0.0505522828</td></tr>\n",
              "\t<tr><td>14981</td><td>-0.0993912617</td></tr>\n",
              "\t<tr><td>14982</td><td> 0.1833308787</td></tr>\n",
              "\t<tr><td>14983</td><td> 0.1322901325</td></tr>\n",
              "\t<tr><td>14984</td><td> 0.0818851252</td></tr>\n",
              "\t<tr><td>14985</td><td> 0.1335616102</td></tr>\n",
              "\t<tr><td>14986</td><td>-0.0642439863</td></tr>\n",
              "\t<tr><td>14987</td><td>-0.0804099165</td></tr>\n",
              "\t<tr><td>14988</td><td>-0.1115611193</td></tr>\n",
              "\t<tr><td>14989</td><td> 0.0286647030</td></tr>\n",
              "\t<tr><td>14990</td><td> 0.1108566519</td></tr>\n",
              "\t<tr><td>14991</td><td>-0.0005792833</td></tr>\n",
              "\t<tr><td>14992</td><td> 0.1613524791</td></tr>\n",
              "\t<tr><td>14993</td><td>-0.0698748159</td></tr>\n",
              "\t<tr><td>14994</td><td> 0.1616249386</td></tr>\n",
              "\t<tr><td>14995</td><td> 0.1074963181</td></tr>\n",
              "\t<tr><td>14996</td><td> 0.1326534119</td></tr>\n",
              "\t<tr><td>14997</td><td>-0.0011242023</td></tr>\n",
              "\t<tr><td>14998</td><td> 0.1593544428</td></tr>\n",
              "\t<tr><td>14999</td><td> 0.0719857634</td></tr>\n",
              "\t<tr><td>15000</td><td>-0.0567967599</td></tr>\n",
              "</tbody>\n",
              "</table>\n"
            ],
            "text/markdown": "\nA infer: 15000 × 2\n\n| replicate &lt;int&gt; | stat &lt;dbl&gt; |\n|---|---|\n|  1 |  0.074891998 |\n|  2 |  0.123753068 |\n|  3 | -0.116919489 |\n|  4 | -0.209192440 |\n|  5 |  0.134651448 |\n|  6 |  0.083429062 |\n|  7 | -0.034818360 |\n|  8 |  0.275240550 |\n|  9 | -0.179766814 |\n| 10 | -0.158969072 |\n| 11 |  0.176701031 |\n| 12 | -0.209828179 |\n| 13 | -0.037906235 |\n| 14 | -0.136445754 |\n| 15 | -0.112196858 |\n| 16 |  0.306482572 |\n| 17 | -0.096939126 |\n| 18 | -0.040358370 |\n| 19 | -0.059067256 |\n| 20 |  0.156448208 |\n| 21 | -0.240525282 |\n| 22 |  0.087970054 |\n| 23 |  0.046283751 |\n| 24 |  0.283141875 |\n| 25 | -0.023738341 |\n| 26 | -0.003939617 |\n| 27 |  0.131926853 |\n| 28 | -0.075505646 |\n| 29 | -0.021558665 |\n| 30 |  0.121936672 |\n| ⋮ | ⋮ |\n| 14971 |  0.2268335788 |\n| 14972 |  0.0585444281 |\n| 14973 | -0.0498944526 |\n| 14974 |  0.1691629848 |\n| 14975 | -0.0301865488 |\n| 14976 | -0.0557977418 |\n| 14977 |  0.2415463918 |\n| 14978 | -0.2157314678 |\n| 14979 |  0.0767992145 |\n| 14980 |  0.0505522828 |\n| 14981 | -0.0993912617 |\n| 14982 |  0.1833308787 |\n| 14983 |  0.1322901325 |\n| 14984 |  0.0818851252 |\n| 14985 |  0.1335616102 |\n| 14986 | -0.0642439863 |\n| 14987 | -0.0804099165 |\n| 14988 | -0.1115611193 |\n| 14989 |  0.0286647030 |\n| 14990 |  0.1108566519 |\n| 14991 | -0.0005792833 |\n| 14992 |  0.1613524791 |\n| 14993 | -0.0698748159 |\n| 14994 |  0.1616249386 |\n| 14995 |  0.1074963181 |\n| 14996 |  0.1326534119 |\n| 14997 | -0.0011242023 |\n| 14998 |  0.1593544428 |\n| 14999 |  0.0719857634 |\n| 15000 | -0.0567967599 |\n\n",
            "text/latex": "A infer: 15000 × 2\n\\begin{tabular}{ll}\n replicate & stat\\\\\n <int> & <dbl>\\\\\n\\hline\n\t  1 &  0.074891998\\\\\n\t  2 &  0.123753068\\\\\n\t  3 & -0.116919489\\\\\n\t  4 & -0.209192440\\\\\n\t  5 &  0.134651448\\\\\n\t  6 &  0.083429062\\\\\n\t  7 & -0.034818360\\\\\n\t  8 &  0.275240550\\\\\n\t  9 & -0.179766814\\\\\n\t 10 & -0.158969072\\\\\n\t 11 &  0.176701031\\\\\n\t 12 & -0.209828179\\\\\n\t 13 & -0.037906235\\\\\n\t 14 & -0.136445754\\\\\n\t 15 & -0.112196858\\\\\n\t 16 &  0.306482572\\\\\n\t 17 & -0.096939126\\\\\n\t 18 & -0.040358370\\\\\n\t 19 & -0.059067256\\\\\n\t 20 &  0.156448208\\\\\n\t 21 & -0.240525282\\\\\n\t 22 &  0.087970054\\\\\n\t 23 &  0.046283751\\\\\n\t 24 &  0.283141875\\\\\n\t 25 & -0.023738341\\\\\n\t 26 & -0.003939617\\\\\n\t 27 &  0.131926853\\\\\n\t 28 & -0.075505646\\\\\n\t 29 & -0.021558665\\\\\n\t 30 &  0.121936672\\\\\n\t ⋮ & ⋮\\\\\n\t 14971 &  0.2268335788\\\\\n\t 14972 &  0.0585444281\\\\\n\t 14973 & -0.0498944526\\\\\n\t 14974 &  0.1691629848\\\\\n\t 14975 & -0.0301865488\\\\\n\t 14976 & -0.0557977418\\\\\n\t 14977 &  0.2415463918\\\\\n\t 14978 & -0.2157314678\\\\\n\t 14979 &  0.0767992145\\\\\n\t 14980 &  0.0505522828\\\\\n\t 14981 & -0.0993912617\\\\\n\t 14982 &  0.1833308787\\\\\n\t 14983 &  0.1322901325\\\\\n\t 14984 &  0.0818851252\\\\\n\t 14985 &  0.1335616102\\\\\n\t 14986 & -0.0642439863\\\\\n\t 14987 & -0.0804099165\\\\\n\t 14988 & -0.1115611193\\\\\n\t 14989 &  0.0286647030\\\\\n\t 14990 &  0.1108566519\\\\\n\t 14991 & -0.0005792833\\\\\n\t 14992 &  0.1613524791\\\\\n\t 14993 & -0.0698748159\\\\\n\t 14994 &  0.1616249386\\\\\n\t 14995 &  0.1074963181\\\\\n\t 14996 &  0.1326534119\\\\\n\t 14997 & -0.0011242023\\\\\n\t 14998 &  0.1593544428\\\\\n\t 14999 &  0.0719857634\\\\\n\t 15000 & -0.0567967599\\\\\n\\end{tabular}\n",
            "text/plain": [
              "      replicate stat         \n",
              "1      1         0.074891998 \n",
              "2      2         0.123753068 \n",
              "3      3        -0.116919489 \n",
              "4      4        -0.209192440 \n",
              "5      5         0.134651448 \n",
              "6      6         0.083429062 \n",
              "7      7        -0.034818360 \n",
              "8      8         0.275240550 \n",
              "9      9        -0.179766814 \n",
              "10    10        -0.158969072 \n",
              "11    11         0.176701031 \n",
              "12    12        -0.209828179 \n",
              "13    13        -0.037906235 \n",
              "14    14        -0.136445754 \n",
              "15    15        -0.112196858 \n",
              "16    16         0.306482572 \n",
              "17    17        -0.096939126 \n",
              "18    18        -0.040358370 \n",
              "19    19        -0.059067256 \n",
              "20    20         0.156448208 \n",
              "21    21        -0.240525282 \n",
              "22    22         0.087970054 \n",
              "23    23         0.046283751 \n",
              "24    24         0.283141875 \n",
              "25    25        -0.023738341 \n",
              "26    26        -0.003939617 \n",
              "27    27         0.131926853 \n",
              "28    28        -0.075505646 \n",
              "29    29        -0.021558665 \n",
              "30    30         0.121936672 \n",
              "⋮     ⋮         ⋮            \n",
              "14971 14971      0.2268335788\n",
              "14972 14972      0.0585444281\n",
              "14973 14973     -0.0498944526\n",
              "14974 14974      0.1691629848\n",
              "14975 14975     -0.0301865488\n",
              "14976 14976     -0.0557977418\n",
              "14977 14977      0.2415463918\n",
              "14978 14978     -0.2157314678\n",
              "14979 14979      0.0767992145\n",
              "14980 14980      0.0505522828\n",
              "14981 14981     -0.0993912617\n",
              "14982 14982      0.1833308787\n",
              "14983 14983      0.1322901325\n",
              "14984 14984      0.0818851252\n",
              "14985 14985      0.1335616102\n",
              "14986 14986     -0.0642439863\n",
              "14987 14987     -0.0804099165\n",
              "14988 14988     -0.1115611193\n",
              "14989 14989      0.0286647030\n",
              "14990 14990      0.1108566519\n",
              "14991 14991     -0.0005792833\n",
              "14992 14992      0.1613524791\n",
              "14993 14993     -0.0698748159\n",
              "14994 14994      0.1616249386\n",
              "14995 14995      0.1074963181\n",
              "14996 14996      0.1326534119\n",
              "14997 14997     -0.0011242023\n",
              "14998 14998      0.1593544428\n",
              "14999 14999      0.0719857634\n",
              "15000 15000     -0.0567967599"
            ]
          },
          "metadata": {}
        },
        {
          "output_type": "display_data",
          "data": {
            "text/html": [
              "<table class=\"dataframe\">\n",
              "<caption>A infer: 1 × 1</caption>\n",
              "<thead>\n",
              "\t<tr><th scope=col>stat</th></tr>\n",
              "\t<tr><th scope=col>&lt;dbl&gt;</th></tr>\n",
              "</thead>\n",
              "<tbody>\n",
              "\t<tr><td>-0.3155425</td></tr>\n",
              "</tbody>\n",
              "</table>\n"
            ],
            "text/markdown": "\nA infer: 1 × 1\n\n| stat &lt;dbl&gt; |\n|---|\n| -0.3155425 |\n\n",
            "text/latex": "A infer: 1 × 1\n\\begin{tabular}{l}\n stat\\\\\n <dbl>\\\\\n\\hline\n\t -0.3155425\\\\\n\\end{tabular}\n",
            "text/plain": [
              "  stat      \n",
              "1 -0.3155425"
            ]
          },
          "metadata": {}
        },
        {
          "output_type": "display_data",
          "data": {
            "text/html": [
              "<table class=\"dataframe\">\n",
              "<caption>A tibble: 1 × 1</caption>\n",
              "<thead>\n",
              "\t<tr><th scope=col>p_value</th></tr>\n",
              "\t<tr><th scope=col>&lt;dbl&gt;</th></tr>\n",
              "</thead>\n",
              "<tbody>\n",
              "\t<tr><td>0.02813333</td></tr>\n",
              "</tbody>\n",
              "</table>\n"
            ],
            "text/markdown": "\nA tibble: 1 × 1\n\n| p_value &lt;dbl&gt; |\n|---|\n| 0.02813333 |\n\n",
            "text/latex": "A tibble: 1 × 1\n\\begin{tabular}{l}\n p\\_value\\\\\n <dbl>\\\\\n\\hline\n\t 0.02813333\\\\\n\\end{tabular}\n",
            "text/plain": [
              "  p_value   \n",
              "1 0.02813333"
            ]
          },
          "metadata": {}
        }
      ]
    },
    {
      "cell_type": "markdown",
      "source": [
        "10.\n",
        "Since we have 0.296 for p value, and 0.296 is less than alpha value which is 0.05, it rejects the null, therefore, they are the different."
      ],
      "metadata": {
        "id": "XZf3FehWS_kl"
      }
    },
    {
      "cell_type": "code",
      "source": [
        "#11\n",
        "boost_null %>%\n",
        "  summarize(lower = quantile(stat, 0.025),\n",
        "            upper = quantile(stat, 0.975))"
      ],
      "metadata": {
        "colab": {
          "base_uri": "https://localhost:8080/",
          "height": 129
        },
        "id": "g6w6tzKfS9vp",
        "outputId": "138c0183-1a63-4dd4-da72-b1e63cbd0e5b"
      },
      "execution_count": null,
      "outputs": [
        {
          "output_type": "display_data",
          "data": {
            "text/html": [
              "<table class=\"dataframe\">\n",
              "<caption>A tibble: 1 × 2</caption>\n",
              "<thead>\n",
              "\t<tr><th scope=col>lower</th><th scope=col>upper</th></tr>\n",
              "\t<tr><th scope=col>&lt;dbl&gt;</th><th scope=col>&lt;dbl&gt;</th></tr>\n",
              "</thead>\n",
              "<tbody>\n",
              "\t<tr><td>-0.2854016</td><td>0.2746956</td></tr>\n",
              "</tbody>\n",
              "</table>\n"
            ],
            "text/markdown": "\nA tibble: 1 × 2\n\n| lower &lt;dbl&gt; | upper &lt;dbl&gt; |\n|---|---|\n| -0.2854016 | 0.2746956 |\n\n",
            "text/latex": "A tibble: 1 × 2\n\\begin{tabular}{ll}\n lower & upper\\\\\n <dbl> & <dbl>\\\\\n\\hline\n\t -0.2854016 & 0.2746956\\\\\n\\end{tabular}\n",
            "text/plain": [
              "  lower      upper    \n",
              "1 -0.2854016 0.2746956"
            ]
          },
          "metadata": {}
        }
      ]
    },
    {
      "cell_type": "code",
      "source": [
        "#12\n",
        "ncbirths %>%\n",
        "  filter(mature == \"younger mom\")"
      ],
      "metadata": {
        "colab": {
          "base_uri": "https://localhost:8080/",
          "height": 1000
        },
        "id": "rdjP9AYLVKlg",
        "outputId": "b9cf1421-b0ac-4e7c-c1e3-d6b4b7eb1870"
      },
      "execution_count": null,
      "outputs": [
        {
          "output_type": "display_data",
          "data": {
            "text/html": [
              "<table class=\"dataframe\">\n",
              "<caption>A tibble: 867 × 13</caption>\n",
              "<thead>\n",
              "\t<tr><th scope=col>fage</th><th scope=col>mage</th><th scope=col>mature</th><th scope=col>weeks</th><th scope=col>premie</th><th scope=col>visits</th><th scope=col>marital</th><th scope=col>gained</th><th scope=col>weight</th><th scope=col>lowbirthweight</th><th scope=col>gender</th><th scope=col>habit</th><th scope=col>whitemom</th></tr>\n",
              "\t<tr><th scope=col>&lt;int&gt;</th><th scope=col>&lt;int&gt;</th><th scope=col>&lt;fct&gt;</th><th scope=col>&lt;int&gt;</th><th scope=col>&lt;fct&gt;</th><th scope=col>&lt;int&gt;</th><th scope=col>&lt;fct&gt;</th><th scope=col>&lt;int&gt;</th><th scope=col>&lt;dbl&gt;</th><th scope=col>&lt;fct&gt;</th><th scope=col>&lt;fct&gt;</th><th scope=col>&lt;fct&gt;</th><th scope=col>&lt;fct&gt;</th></tr>\n",
              "</thead>\n",
              "<tbody>\n",
              "\t<tr><td>NA</td><td>13</td><td>younger mom</td><td>39</td><td>full term</td><td>10</td><td>not married</td><td>38</td><td>7.63</td><td>not low</td><td>male  </td><td>nonsmoker</td><td>not white</td></tr>\n",
              "\t<tr><td>NA</td><td>14</td><td>younger mom</td><td>42</td><td>full term</td><td>15</td><td>not married</td><td>20</td><td>7.88</td><td>not low</td><td>male  </td><td>nonsmoker</td><td>not white</td></tr>\n",
              "\t<tr><td>19</td><td>15</td><td>younger mom</td><td>37</td><td>full term</td><td>11</td><td>not married</td><td>38</td><td>6.63</td><td>not low</td><td>female</td><td>nonsmoker</td><td>white    </td></tr>\n",
              "\t<tr><td>21</td><td>15</td><td>younger mom</td><td>41</td><td>full term</td><td> 6</td><td>not married</td><td>34</td><td>8.00</td><td>not low</td><td>male  </td><td>nonsmoker</td><td>white    </td></tr>\n",
              "\t<tr><td>NA</td><td>15</td><td>younger mom</td><td>39</td><td>full term</td><td> 9</td><td>not married</td><td>27</td><td>6.38</td><td>not low</td><td>female</td><td>nonsmoker</td><td>not white</td></tr>\n",
              "\t<tr><td>NA</td><td>15</td><td>younger mom</td><td>38</td><td>full term</td><td>19</td><td>not married</td><td>22</td><td>5.38</td><td>low    </td><td>male  </td><td>nonsmoker</td><td>not white</td></tr>\n",
              "\t<tr><td>18</td><td>15</td><td>younger mom</td><td>37</td><td>full term</td><td>12</td><td>not married</td><td>76</td><td>8.44</td><td>not low</td><td>male  </td><td>nonsmoker</td><td>not white</td></tr>\n",
              "\t<tr><td>17</td><td>15</td><td>younger mom</td><td>35</td><td>premie   </td><td> 5</td><td>not married</td><td>15</td><td>4.69</td><td>low    </td><td>male  </td><td>nonsmoker</td><td>not white</td></tr>\n",
              "\t<tr><td>NA</td><td>16</td><td>younger mom</td><td>38</td><td>full term</td><td> 9</td><td>not married</td><td>NA</td><td>8.81</td><td>not low</td><td>male  </td><td>nonsmoker</td><td>white    </td></tr>\n",
              "\t<tr><td>20</td><td>16</td><td>younger mom</td><td>37</td><td>full term</td><td>13</td><td>not married</td><td>52</td><td>6.94</td><td>not low</td><td>female</td><td>nonsmoker</td><td>white    </td></tr>\n",
              "\t<tr><td>30</td><td>16</td><td>younger mom</td><td>45</td><td>full term</td><td> 9</td><td>not married</td><td>28</td><td>7.44</td><td>not low</td><td>male  </td><td>nonsmoker</td><td>white    </td></tr>\n",
              "\t<tr><td>NA</td><td>16</td><td>younger mom</td><td>42</td><td>full term</td><td> 8</td><td>not married</td><td>34</td><td>8.81</td><td>not low</td><td>female</td><td>nonsmoker</td><td>white    </td></tr>\n",
              "\t<tr><td>NA</td><td>16</td><td>younger mom</td><td>40</td><td>full term</td><td> 4</td><td>not married</td><td>12</td><td>6.00</td><td>not low</td><td>female</td><td>nonsmoker</td><td>not white</td></tr>\n",
              "\t<tr><td>NA</td><td>16</td><td>younger mom</td><td>38</td><td>full term</td><td>12</td><td>not married</td><td>30</td><td>7.13</td><td>not low</td><td>female</td><td>nonsmoker</td><td>white    </td></tr>\n",
              "\t<tr><td>21</td><td>16</td><td>younger mom</td><td>38</td><td>full term</td><td>15</td><td>not married</td><td>75</td><td>7.56</td><td>not low</td><td>female</td><td>smoker   </td><td>white    </td></tr>\n",
              "\t<tr><td>NA</td><td>16</td><td>younger mom</td><td>40</td><td>full term</td><td> 7</td><td>not married</td><td>35</td><td>6.88</td><td>not low</td><td>male  </td><td>smoker   </td><td>white    </td></tr>\n",
              "\t<tr><td>14</td><td>16</td><td>younger mom</td><td>40</td><td>full term</td><td>12</td><td>not married</td><td> 9</td><td>5.81</td><td>not low</td><td>female</td><td>smoker   </td><td>white    </td></tr>\n",
              "\t<tr><td>16</td><td>16</td><td>younger mom</td><td>24</td><td>premie   </td><td> 5</td><td>not married</td><td>12</td><td>1.50</td><td>low    </td><td>male  </td><td>nonsmoker</td><td>not white</td></tr>\n",
              "\t<tr><td>20</td><td>17</td><td>younger mom</td><td>40</td><td>full term</td><td> 8</td><td>not married</td><td>20</td><td>8.25</td><td>not low</td><td>female</td><td>nonsmoker</td><td>white    </td></tr>\n",
              "\t<tr><td>18</td><td>17</td><td>younger mom</td><td>37</td><td>full term</td><td>10</td><td>not married</td><td>39</td><td>6.19</td><td>not low</td><td>female</td><td>nonsmoker</td><td>not white</td></tr>\n",
              "\t<tr><td>NA</td><td>17</td><td>younger mom</td><td>39</td><td>full term</td><td>10</td><td>not married</td><td>40</td><td>7.00</td><td>not low</td><td>male  </td><td>nonsmoker</td><td>not white</td></tr>\n",
              "\t<tr><td>20</td><td>17</td><td>younger mom</td><td>40</td><td>full term</td><td>17</td><td>not married</td><td>38</td><td>7.19</td><td>not low</td><td>male  </td><td>nonsmoker</td><td>white    </td></tr>\n",
              "\t<tr><td>20</td><td>17</td><td>younger mom</td><td>39</td><td>full term</td><td> 9</td><td>not married</td><td>36</td><td>6.00</td><td>not low</td><td>male  </td><td>nonsmoker</td><td>not white</td></tr>\n",
              "\t<tr><td>NA</td><td>17</td><td>younger mom</td><td>40</td><td>full term</td><td>15</td><td>not married</td><td>20</td><td>7.63</td><td>not low</td><td>female</td><td>nonsmoker</td><td>not white</td></tr>\n",
              "\t<tr><td>26</td><td>17</td><td>younger mom</td><td>38</td><td>full term</td><td>11</td><td>not married</td><td>30</td><td>9.50</td><td>not low</td><td>female</td><td>nonsmoker</td><td>white    </td></tr>\n",
              "\t<tr><td>NA</td><td>17</td><td>younger mom</td><td>38</td><td>full term</td><td>12</td><td>not married</td><td>30</td><td>5.56</td><td>not low</td><td>female</td><td>nonsmoker</td><td>not white</td></tr>\n",
              "\t<tr><td>NA</td><td>17</td><td>younger mom</td><td>39</td><td>full term</td><td>12</td><td>not married</td><td>50</td><td>7.50</td><td>not low</td><td>male  </td><td>nonsmoker</td><td>not white</td></tr>\n",
              "\t<tr><td>20</td><td>17</td><td>younger mom</td><td>40</td><td>full term</td><td>10</td><td>not married</td><td>68</td><td>7.44</td><td>not low</td><td>male  </td><td>nonsmoker</td><td>not white</td></tr>\n",
              "\t<tr><td>31</td><td>17</td><td>younger mom</td><td>39</td><td>full term</td><td>12</td><td>not married</td><td>27</td><td>7.56</td><td>not low</td><td>male  </td><td>nonsmoker</td><td>white    </td></tr>\n",
              "\t<tr><td>17</td><td>17</td><td>younger mom</td><td>38</td><td>full term</td><td>12</td><td>not married</td><td>22</td><td>6.06</td><td>not low</td><td>male  </td><td>nonsmoker</td><td>not white</td></tr>\n",
              "\t<tr><td>⋮</td><td>⋮</td><td>⋮</td><td>⋮</td><td>⋮</td><td>⋮</td><td>⋮</td><td>⋮</td><td>⋮</td><td>⋮</td><td>⋮</td><td>⋮</td><td>⋮</td></tr>\n",
              "\t<tr><td>34</td><td>34</td><td>younger mom</td><td>37</td><td>full term</td><td>13</td><td>married    </td><td>30</td><td>8.75</td><td>not low</td><td>male  </td><td>nonsmoker</td><td>white    </td></tr>\n",
              "\t<tr><td>33</td><td>34</td><td>younger mom</td><td>39</td><td>full term</td><td>10</td><td>married    </td><td>40</td><td>6.44</td><td>not low</td><td>female</td><td>nonsmoker</td><td>white    </td></tr>\n",
              "\t<tr><td>36</td><td>34</td><td>younger mom</td><td>38</td><td>full term</td><td>14</td><td>married    </td><td>15</td><td>7.00</td><td>not low</td><td>female</td><td>nonsmoker</td><td>white    </td></tr>\n",
              "\t<tr><td>32</td><td>34</td><td>younger mom</td><td>37</td><td>full term</td><td>10</td><td>married    </td><td>25</td><td>7.25</td><td>not low</td><td>female</td><td>nonsmoker</td><td>white    </td></tr>\n",
              "\t<tr><td>33</td><td>34</td><td>younger mom</td><td>40</td><td>full term</td><td>13</td><td>married    </td><td>25</td><td>8.25</td><td>not low</td><td>male  </td><td>nonsmoker</td><td>white    </td></tr>\n",
              "\t<tr><td>35</td><td>34</td><td>younger mom</td><td>37</td><td>full term</td><td>14</td><td>married    </td><td>36</td><td>8.50</td><td>not low</td><td>male  </td><td>nonsmoker</td><td>white    </td></tr>\n",
              "\t<tr><td>35</td><td>34</td><td>younger mom</td><td>40</td><td>full term</td><td>15</td><td>married    </td><td>20</td><td>7.44</td><td>not low</td><td>male  </td><td>nonsmoker</td><td>white    </td></tr>\n",
              "\t<tr><td>40</td><td>34</td><td>younger mom</td><td>37</td><td>full term</td><td> 5</td><td>married    </td><td>25</td><td>7.75</td><td>not low</td><td>female</td><td>nonsmoker</td><td>white    </td></tr>\n",
              "\t<tr><td>36</td><td>34</td><td>younger mom</td><td>41</td><td>full term</td><td>15</td><td>married    </td><td>28</td><td>8.50</td><td>not low</td><td>female</td><td>nonsmoker</td><td>white    </td></tr>\n",
              "\t<tr><td>40</td><td>34</td><td>younger mom</td><td>39</td><td>full term</td><td>12</td><td>married    </td><td>23</td><td>8.13</td><td>not low</td><td>male  </td><td>nonsmoker</td><td>white    </td></tr>\n",
              "\t<tr><td>36</td><td>34</td><td>younger mom</td><td>41</td><td>full term</td><td>10</td><td>married    </td><td>NA</td><td>6.94</td><td>not low</td><td>male  </td><td>nonsmoker</td><td>white    </td></tr>\n",
              "\t<tr><td>34</td><td>34</td><td>younger mom</td><td>37</td><td>full term</td><td>15</td><td>married    </td><td>20</td><td>7.25</td><td>not low</td><td>male  </td><td>nonsmoker</td><td>white    </td></tr>\n",
              "\t<tr><td>22</td><td>34</td><td>younger mom</td><td>39</td><td>full term</td><td>12</td><td>married    </td><td>57</td><td>9.69</td><td>not low</td><td>male  </td><td>nonsmoker</td><td>not white</td></tr>\n",
              "\t<tr><td>38</td><td>34</td><td>younger mom</td><td>40</td><td>full term</td><td>18</td><td>married    </td><td> 0</td><td>6.31</td><td>not low</td><td>female</td><td>nonsmoker</td><td>white    </td></tr>\n",
              "\t<tr><td>31</td><td>34</td><td>younger mom</td><td>42</td><td>full term</td><td>20</td><td>married    </td><td>40</td><td>6.75</td><td>not low</td><td>male  </td><td>nonsmoker</td><td>white    </td></tr>\n",
              "\t<tr><td>34</td><td>34</td><td>younger mom</td><td>37</td><td>full term</td><td>17</td><td>married    </td><td>35</td><td>6.88</td><td>not low</td><td>female</td><td>nonsmoker</td><td>white    </td></tr>\n",
              "\t<tr><td>40</td><td>34</td><td>younger mom</td><td>44</td><td>full term</td><td>12</td><td>married    </td><td>28</td><td>8.75</td><td>not low</td><td>male  </td><td>nonsmoker</td><td>white    </td></tr>\n",
              "\t<tr><td>30</td><td>34</td><td>younger mom</td><td>40</td><td>full term</td><td>10</td><td>married    </td><td>22</td><td>9.31</td><td>not low</td><td>male  </td><td>nonsmoker</td><td>white    </td></tr>\n",
              "\t<tr><td>26</td><td>34</td><td>younger mom</td><td>39</td><td>full term</td><td>16</td><td>married    </td><td>15</td><td>7.88</td><td>not low</td><td>female</td><td>nonsmoker</td><td>not white</td></tr>\n",
              "\t<tr><td>35</td><td>34</td><td>younger mom</td><td>40</td><td>full term</td><td>16</td><td>married    </td><td>38</td><td>7.63</td><td>not low</td><td>female</td><td>nonsmoker</td><td>white    </td></tr>\n",
              "\t<tr><td>35</td><td>34</td><td>younger mom</td><td>41</td><td>full term</td><td>10</td><td>married    </td><td>33</td><td>8.31</td><td>not low</td><td>female</td><td>nonsmoker</td><td>not white</td></tr>\n",
              "\t<tr><td>30</td><td>34</td><td>younger mom</td><td>41</td><td>full term</td><td>14</td><td>married    </td><td>40</td><td>7.88</td><td>not low</td><td>female</td><td>nonsmoker</td><td>white    </td></tr>\n",
              "\t<tr><td>34</td><td>34</td><td>younger mom</td><td>39</td><td>full term</td><td>10</td><td>married    </td><td>44</td><td>7.56</td><td>not low</td><td>female</td><td>nonsmoker</td><td>white    </td></tr>\n",
              "\t<tr><td>39</td><td>34</td><td>younger mom</td><td>38</td><td>full term</td><td> 8</td><td>married    </td><td>60</td><td>6.19</td><td>not low</td><td>female</td><td>nonsmoker</td><td>white    </td></tr>\n",
              "\t<tr><td>38</td><td>34</td><td>younger mom</td><td>39</td><td>full term</td><td> 9</td><td>married    </td><td>34</td><td>7.94</td><td>not low</td><td>female</td><td>nonsmoker</td><td>not white</td></tr>\n",
              "\t<tr><td>38</td><td>34</td><td>younger mom</td><td>34</td><td>premie   </td><td>10</td><td>married    </td><td>29</td><td>7.19</td><td>not low</td><td>male  </td><td>nonsmoker</td><td>white    </td></tr>\n",
              "\t<tr><td>38</td><td>34</td><td>younger mom</td><td>36</td><td>premie   </td><td> 7</td><td>married    </td><td>22</td><td>6.31</td><td>not low</td><td>male  </td><td>nonsmoker</td><td>white    </td></tr>\n",
              "\t<tr><td>38</td><td>34</td><td>younger mom</td><td>34</td><td>premie   </td><td>10</td><td>married    </td><td>15</td><td>4.69</td><td>low    </td><td>female</td><td>nonsmoker</td><td>white    </td></tr>\n",
              "\t<tr><td>NA</td><td>34</td><td>younger mom</td><td>33</td><td>premie   </td><td>17</td><td>not married</td><td>14</td><td>3.81</td><td>low    </td><td>female</td><td>nonsmoker</td><td>white    </td></tr>\n",
              "\t<tr><td>34</td><td>34</td><td>younger mom</td><td>28</td><td>premie   </td><td>20</td><td>married    </td><td>21</td><td>2.88</td><td>low    </td><td>male  </td><td>nonsmoker</td><td>white    </td></tr>\n",
              "</tbody>\n",
              "</table>\n"
            ],
            "text/markdown": "\nA tibble: 867 × 13\n\n| fage &lt;int&gt; | mage &lt;int&gt; | mature &lt;fct&gt; | weeks &lt;int&gt; | premie &lt;fct&gt; | visits &lt;int&gt; | marital &lt;fct&gt; | gained &lt;int&gt; | weight &lt;dbl&gt; | lowbirthweight &lt;fct&gt; | gender &lt;fct&gt; | habit &lt;fct&gt; | whitemom &lt;fct&gt; |\n|---|---|---|---|---|---|---|---|---|---|---|---|---|\n| NA | 13 | younger mom | 39 | full term | 10 | not married | 38 | 7.63 | not low | male   | nonsmoker | not white |\n| NA | 14 | younger mom | 42 | full term | 15 | not married | 20 | 7.88 | not low | male   | nonsmoker | not white |\n| 19 | 15 | younger mom | 37 | full term | 11 | not married | 38 | 6.63 | not low | female | nonsmoker | white     |\n| 21 | 15 | younger mom | 41 | full term |  6 | not married | 34 | 8.00 | not low | male   | nonsmoker | white     |\n| NA | 15 | younger mom | 39 | full term |  9 | not married | 27 | 6.38 | not low | female | nonsmoker | not white |\n| NA | 15 | younger mom | 38 | full term | 19 | not married | 22 | 5.38 | low     | male   | nonsmoker | not white |\n| 18 | 15 | younger mom | 37 | full term | 12 | not married | 76 | 8.44 | not low | male   | nonsmoker | not white |\n| 17 | 15 | younger mom | 35 | premie    |  5 | not married | 15 | 4.69 | low     | male   | nonsmoker | not white |\n| NA | 16 | younger mom | 38 | full term |  9 | not married | NA | 8.81 | not low | male   | nonsmoker | white     |\n| 20 | 16 | younger mom | 37 | full term | 13 | not married | 52 | 6.94 | not low | female | nonsmoker | white     |\n| 30 | 16 | younger mom | 45 | full term |  9 | not married | 28 | 7.44 | not low | male   | nonsmoker | white     |\n| NA | 16 | younger mom | 42 | full term |  8 | not married | 34 | 8.81 | not low | female | nonsmoker | white     |\n| NA | 16 | younger mom | 40 | full term |  4 | not married | 12 | 6.00 | not low | female | nonsmoker | not white |\n| NA | 16 | younger mom | 38 | full term | 12 | not married | 30 | 7.13 | not low | female | nonsmoker | white     |\n| 21 | 16 | younger mom | 38 | full term | 15 | not married | 75 | 7.56 | not low | female | smoker    | white     |\n| NA | 16 | younger mom | 40 | full term |  7 | not married | 35 | 6.88 | not low | male   | smoker    | white     |\n| 14 | 16 | younger mom | 40 | full term | 12 | not married |  9 | 5.81 | not low | female | smoker    | white     |\n| 16 | 16 | younger mom | 24 | premie    |  5 | not married | 12 | 1.50 | low     | male   | nonsmoker | not white |\n| 20 | 17 | younger mom | 40 | full term |  8 | not married | 20 | 8.25 | not low | female | nonsmoker | white     |\n| 18 | 17 | younger mom | 37 | full term | 10 | not married | 39 | 6.19 | not low | female | nonsmoker | not white |\n| NA | 17 | younger mom | 39 | full term | 10 | not married | 40 | 7.00 | not low | male   | nonsmoker | not white |\n| 20 | 17 | younger mom | 40 | full term | 17 | not married | 38 | 7.19 | not low | male   | nonsmoker | white     |\n| 20 | 17 | younger mom | 39 | full term |  9 | not married | 36 | 6.00 | not low | male   | nonsmoker | not white |\n| NA | 17 | younger mom | 40 | full term | 15 | not married | 20 | 7.63 | not low | female | nonsmoker | not white |\n| 26 | 17 | younger mom | 38 | full term | 11 | not married | 30 | 9.50 | not low | female | nonsmoker | white     |\n| NA | 17 | younger mom | 38 | full term | 12 | not married | 30 | 5.56 | not low | female | nonsmoker | not white |\n| NA | 17 | younger mom | 39 | full term | 12 | not married | 50 | 7.50 | not low | male   | nonsmoker | not white |\n| 20 | 17 | younger mom | 40 | full term | 10 | not married | 68 | 7.44 | not low | male   | nonsmoker | not white |\n| 31 | 17 | younger mom | 39 | full term | 12 | not married | 27 | 7.56 | not low | male   | nonsmoker | white     |\n| 17 | 17 | younger mom | 38 | full term | 12 | not married | 22 | 6.06 | not low | male   | nonsmoker | not white |\n| ⋮ | ⋮ | ⋮ | ⋮ | ⋮ | ⋮ | ⋮ | ⋮ | ⋮ | ⋮ | ⋮ | ⋮ | ⋮ |\n| 34 | 34 | younger mom | 37 | full term | 13 | married     | 30 | 8.75 | not low | male   | nonsmoker | white     |\n| 33 | 34 | younger mom | 39 | full term | 10 | married     | 40 | 6.44 | not low | female | nonsmoker | white     |\n| 36 | 34 | younger mom | 38 | full term | 14 | married     | 15 | 7.00 | not low | female | nonsmoker | white     |\n| 32 | 34 | younger mom | 37 | full term | 10 | married     | 25 | 7.25 | not low | female | nonsmoker | white     |\n| 33 | 34 | younger mom | 40 | full term | 13 | married     | 25 | 8.25 | not low | male   | nonsmoker | white     |\n| 35 | 34 | younger mom | 37 | full term | 14 | married     | 36 | 8.50 | not low | male   | nonsmoker | white     |\n| 35 | 34 | younger mom | 40 | full term | 15 | married     | 20 | 7.44 | not low | male   | nonsmoker | white     |\n| 40 | 34 | younger mom | 37 | full term |  5 | married     | 25 | 7.75 | not low | female | nonsmoker | white     |\n| 36 | 34 | younger mom | 41 | full term | 15 | married     | 28 | 8.50 | not low | female | nonsmoker | white     |\n| 40 | 34 | younger mom | 39 | full term | 12 | married     | 23 | 8.13 | not low | male   | nonsmoker | white     |\n| 36 | 34 | younger mom | 41 | full term | 10 | married     | NA | 6.94 | not low | male   | nonsmoker | white     |\n| 34 | 34 | younger mom | 37 | full term | 15 | married     | 20 | 7.25 | not low | male   | nonsmoker | white     |\n| 22 | 34 | younger mom | 39 | full term | 12 | married     | 57 | 9.69 | not low | male   | nonsmoker | not white |\n| 38 | 34 | younger mom | 40 | full term | 18 | married     |  0 | 6.31 | not low | female | nonsmoker | white     |\n| 31 | 34 | younger mom | 42 | full term | 20 | married     | 40 | 6.75 | not low | male   | nonsmoker | white     |\n| 34 | 34 | younger mom | 37 | full term | 17 | married     | 35 | 6.88 | not low | female | nonsmoker | white     |\n| 40 | 34 | younger mom | 44 | full term | 12 | married     | 28 | 8.75 | not low | male   | nonsmoker | white     |\n| 30 | 34 | younger mom | 40 | full term | 10 | married     | 22 | 9.31 | not low | male   | nonsmoker | white     |\n| 26 | 34 | younger mom | 39 | full term | 16 | married     | 15 | 7.88 | not low | female | nonsmoker | not white |\n| 35 | 34 | younger mom | 40 | full term | 16 | married     | 38 | 7.63 | not low | female | nonsmoker | white     |\n| 35 | 34 | younger mom | 41 | full term | 10 | married     | 33 | 8.31 | not low | female | nonsmoker | not white |\n| 30 | 34 | younger mom | 41 | full term | 14 | married     | 40 | 7.88 | not low | female | nonsmoker | white     |\n| 34 | 34 | younger mom | 39 | full term | 10 | married     | 44 | 7.56 | not low | female | nonsmoker | white     |\n| 39 | 34 | younger mom | 38 | full term |  8 | married     | 60 | 6.19 | not low | female | nonsmoker | white     |\n| 38 | 34 | younger mom | 39 | full term |  9 | married     | 34 | 7.94 | not low | female | nonsmoker | not white |\n| 38 | 34 | younger mom | 34 | premie    | 10 | married     | 29 | 7.19 | not low | male   | nonsmoker | white     |\n| 38 | 34 | younger mom | 36 | premie    |  7 | married     | 22 | 6.31 | not low | male   | nonsmoker | white     |\n| 38 | 34 | younger mom | 34 | premie    | 10 | married     | 15 | 4.69 | low     | female | nonsmoker | white     |\n| NA | 34 | younger mom | 33 | premie    | 17 | not married | 14 | 3.81 | low     | female | nonsmoker | white     |\n| 34 | 34 | younger mom | 28 | premie    | 20 | married     | 21 | 2.88 | low     | male   | nonsmoker | white     |\n\n",
            "text/latex": "A tibble: 867 × 13\n\\begin{tabular}{lllllllllllll}\n fage & mage & mature & weeks & premie & visits & marital & gained & weight & lowbirthweight & gender & habit & whitemom\\\\\n <int> & <int> & <fct> & <int> & <fct> & <int> & <fct> & <int> & <dbl> & <fct> & <fct> & <fct> & <fct>\\\\\n\\hline\n\t NA & 13 & younger mom & 39 & full term & 10 & not married & 38 & 7.63 & not low & male   & nonsmoker & not white\\\\\n\t NA & 14 & younger mom & 42 & full term & 15 & not married & 20 & 7.88 & not low & male   & nonsmoker & not white\\\\\n\t 19 & 15 & younger mom & 37 & full term & 11 & not married & 38 & 6.63 & not low & female & nonsmoker & white    \\\\\n\t 21 & 15 & younger mom & 41 & full term &  6 & not married & 34 & 8.00 & not low & male   & nonsmoker & white    \\\\\n\t NA & 15 & younger mom & 39 & full term &  9 & not married & 27 & 6.38 & not low & female & nonsmoker & not white\\\\\n\t NA & 15 & younger mom & 38 & full term & 19 & not married & 22 & 5.38 & low     & male   & nonsmoker & not white\\\\\n\t 18 & 15 & younger mom & 37 & full term & 12 & not married & 76 & 8.44 & not low & male   & nonsmoker & not white\\\\\n\t 17 & 15 & younger mom & 35 & premie    &  5 & not married & 15 & 4.69 & low     & male   & nonsmoker & not white\\\\\n\t NA & 16 & younger mom & 38 & full term &  9 & not married & NA & 8.81 & not low & male   & nonsmoker & white    \\\\\n\t 20 & 16 & younger mom & 37 & full term & 13 & not married & 52 & 6.94 & not low & female & nonsmoker & white    \\\\\n\t 30 & 16 & younger mom & 45 & full term &  9 & not married & 28 & 7.44 & not low & male   & nonsmoker & white    \\\\\n\t NA & 16 & younger mom & 42 & full term &  8 & not married & 34 & 8.81 & not low & female & nonsmoker & white    \\\\\n\t NA & 16 & younger mom & 40 & full term &  4 & not married & 12 & 6.00 & not low & female & nonsmoker & not white\\\\\n\t NA & 16 & younger mom & 38 & full term & 12 & not married & 30 & 7.13 & not low & female & nonsmoker & white    \\\\\n\t 21 & 16 & younger mom & 38 & full term & 15 & not married & 75 & 7.56 & not low & female & smoker    & white    \\\\\n\t NA & 16 & younger mom & 40 & full term &  7 & not married & 35 & 6.88 & not low & male   & smoker    & white    \\\\\n\t 14 & 16 & younger mom & 40 & full term & 12 & not married &  9 & 5.81 & not low & female & smoker    & white    \\\\\n\t 16 & 16 & younger mom & 24 & premie    &  5 & not married & 12 & 1.50 & low     & male   & nonsmoker & not white\\\\\n\t 20 & 17 & younger mom & 40 & full term &  8 & not married & 20 & 8.25 & not low & female & nonsmoker & white    \\\\\n\t 18 & 17 & younger mom & 37 & full term & 10 & not married & 39 & 6.19 & not low & female & nonsmoker & not white\\\\\n\t NA & 17 & younger mom & 39 & full term & 10 & not married & 40 & 7.00 & not low & male   & nonsmoker & not white\\\\\n\t 20 & 17 & younger mom & 40 & full term & 17 & not married & 38 & 7.19 & not low & male   & nonsmoker & white    \\\\\n\t 20 & 17 & younger mom & 39 & full term &  9 & not married & 36 & 6.00 & not low & male   & nonsmoker & not white\\\\\n\t NA & 17 & younger mom & 40 & full term & 15 & not married & 20 & 7.63 & not low & female & nonsmoker & not white\\\\\n\t 26 & 17 & younger mom & 38 & full term & 11 & not married & 30 & 9.50 & not low & female & nonsmoker & white    \\\\\n\t NA & 17 & younger mom & 38 & full term & 12 & not married & 30 & 5.56 & not low & female & nonsmoker & not white\\\\\n\t NA & 17 & younger mom & 39 & full term & 12 & not married & 50 & 7.50 & not low & male   & nonsmoker & not white\\\\\n\t 20 & 17 & younger mom & 40 & full term & 10 & not married & 68 & 7.44 & not low & male   & nonsmoker & not white\\\\\n\t 31 & 17 & younger mom & 39 & full term & 12 & not married & 27 & 7.56 & not low & male   & nonsmoker & white    \\\\\n\t 17 & 17 & younger mom & 38 & full term & 12 & not married & 22 & 6.06 & not low & male   & nonsmoker & not white\\\\\n\t ⋮ & ⋮ & ⋮ & ⋮ & ⋮ & ⋮ & ⋮ & ⋮ & ⋮ & ⋮ & ⋮ & ⋮ & ⋮\\\\\n\t 34 & 34 & younger mom & 37 & full term & 13 & married     & 30 & 8.75 & not low & male   & nonsmoker & white    \\\\\n\t 33 & 34 & younger mom & 39 & full term & 10 & married     & 40 & 6.44 & not low & female & nonsmoker & white    \\\\\n\t 36 & 34 & younger mom & 38 & full term & 14 & married     & 15 & 7.00 & not low & female & nonsmoker & white    \\\\\n\t 32 & 34 & younger mom & 37 & full term & 10 & married     & 25 & 7.25 & not low & female & nonsmoker & white    \\\\\n\t 33 & 34 & younger mom & 40 & full term & 13 & married     & 25 & 8.25 & not low & male   & nonsmoker & white    \\\\\n\t 35 & 34 & younger mom & 37 & full term & 14 & married     & 36 & 8.50 & not low & male   & nonsmoker & white    \\\\\n\t 35 & 34 & younger mom & 40 & full term & 15 & married     & 20 & 7.44 & not low & male   & nonsmoker & white    \\\\\n\t 40 & 34 & younger mom & 37 & full term &  5 & married     & 25 & 7.75 & not low & female & nonsmoker & white    \\\\\n\t 36 & 34 & younger mom & 41 & full term & 15 & married     & 28 & 8.50 & not low & female & nonsmoker & white    \\\\\n\t 40 & 34 & younger mom & 39 & full term & 12 & married     & 23 & 8.13 & not low & male   & nonsmoker & white    \\\\\n\t 36 & 34 & younger mom & 41 & full term & 10 & married     & NA & 6.94 & not low & male   & nonsmoker & white    \\\\\n\t 34 & 34 & younger mom & 37 & full term & 15 & married     & 20 & 7.25 & not low & male   & nonsmoker & white    \\\\\n\t 22 & 34 & younger mom & 39 & full term & 12 & married     & 57 & 9.69 & not low & male   & nonsmoker & not white\\\\\n\t 38 & 34 & younger mom & 40 & full term & 18 & married     &  0 & 6.31 & not low & female & nonsmoker & white    \\\\\n\t 31 & 34 & younger mom & 42 & full term & 20 & married     & 40 & 6.75 & not low & male   & nonsmoker & white    \\\\\n\t 34 & 34 & younger mom & 37 & full term & 17 & married     & 35 & 6.88 & not low & female & nonsmoker & white    \\\\\n\t 40 & 34 & younger mom & 44 & full term & 12 & married     & 28 & 8.75 & not low & male   & nonsmoker & white    \\\\\n\t 30 & 34 & younger mom & 40 & full term & 10 & married     & 22 & 9.31 & not low & male   & nonsmoker & white    \\\\\n\t 26 & 34 & younger mom & 39 & full term & 16 & married     & 15 & 7.88 & not low & female & nonsmoker & not white\\\\\n\t 35 & 34 & younger mom & 40 & full term & 16 & married     & 38 & 7.63 & not low & female & nonsmoker & white    \\\\\n\t 35 & 34 & younger mom & 41 & full term & 10 & married     & 33 & 8.31 & not low & female & nonsmoker & not white\\\\\n\t 30 & 34 & younger mom & 41 & full term & 14 & married     & 40 & 7.88 & not low & female & nonsmoker & white    \\\\\n\t 34 & 34 & younger mom & 39 & full term & 10 & married     & 44 & 7.56 & not low & female & nonsmoker & white    \\\\\n\t 39 & 34 & younger mom & 38 & full term &  8 & married     & 60 & 6.19 & not low & female & nonsmoker & white    \\\\\n\t 38 & 34 & younger mom & 39 & full term &  9 & married     & 34 & 7.94 & not low & female & nonsmoker & not white\\\\\n\t 38 & 34 & younger mom & 34 & premie    & 10 & married     & 29 & 7.19 & not low & male   & nonsmoker & white    \\\\\n\t 38 & 34 & younger mom & 36 & premie    &  7 & married     & 22 & 6.31 & not low & male   & nonsmoker & white    \\\\\n\t 38 & 34 & younger mom & 34 & premie    & 10 & married     & 15 & 4.69 & low     & female & nonsmoker & white    \\\\\n\t NA & 34 & younger mom & 33 & premie    & 17 & not married & 14 & 3.81 & low     & female & nonsmoker & white    \\\\\n\t 34 & 34 & younger mom & 28 & premie    & 20 & married     & 21 & 2.88 & low     & male   & nonsmoker & white    \\\\\n\\end{tabular}\n",
            "text/plain": [
              "    fage mage mature      weeks premie    visits marital     gained weight\n",
              "1   NA   13   younger mom 39    full term 10     not married 38     7.63  \n",
              "2   NA   14   younger mom 42    full term 15     not married 20     7.88  \n",
              "3   19   15   younger mom 37    full term 11     not married 38     6.63  \n",
              "4   21   15   younger mom 41    full term  6     not married 34     8.00  \n",
              "5   NA   15   younger mom 39    full term  9     not married 27     6.38  \n",
              "6   NA   15   younger mom 38    full term 19     not married 22     5.38  \n",
              "7   18   15   younger mom 37    full term 12     not married 76     8.44  \n",
              "8   17   15   younger mom 35    premie     5     not married 15     4.69  \n",
              "9   NA   16   younger mom 38    full term  9     not married NA     8.81  \n",
              "10  20   16   younger mom 37    full term 13     not married 52     6.94  \n",
              "11  30   16   younger mom 45    full term  9     not married 28     7.44  \n",
              "12  NA   16   younger mom 42    full term  8     not married 34     8.81  \n",
              "13  NA   16   younger mom 40    full term  4     not married 12     6.00  \n",
              "14  NA   16   younger mom 38    full term 12     not married 30     7.13  \n",
              "15  21   16   younger mom 38    full term 15     not married 75     7.56  \n",
              "16  NA   16   younger mom 40    full term  7     not married 35     6.88  \n",
              "17  14   16   younger mom 40    full term 12     not married  9     5.81  \n",
              "18  16   16   younger mom 24    premie     5     not married 12     1.50  \n",
              "19  20   17   younger mom 40    full term  8     not married 20     8.25  \n",
              "20  18   17   younger mom 37    full term 10     not married 39     6.19  \n",
              "21  NA   17   younger mom 39    full term 10     not married 40     7.00  \n",
              "22  20   17   younger mom 40    full term 17     not married 38     7.19  \n",
              "23  20   17   younger mom 39    full term  9     not married 36     6.00  \n",
              "24  NA   17   younger mom 40    full term 15     not married 20     7.63  \n",
              "25  26   17   younger mom 38    full term 11     not married 30     9.50  \n",
              "26  NA   17   younger mom 38    full term 12     not married 30     5.56  \n",
              "27  NA   17   younger mom 39    full term 12     not married 50     7.50  \n",
              "28  20   17   younger mom 40    full term 10     not married 68     7.44  \n",
              "29  31   17   younger mom 39    full term 12     not married 27     7.56  \n",
              "30  17   17   younger mom 38    full term 12     not married 22     6.06  \n",
              "⋮   ⋮    ⋮    ⋮           ⋮     ⋮         ⋮      ⋮           ⋮      ⋮     \n",
              "838 34   34   younger mom 37    full term 13     married     30     8.75  \n",
              "839 33   34   younger mom 39    full term 10     married     40     6.44  \n",
              "840 36   34   younger mom 38    full term 14     married     15     7.00  \n",
              "841 32   34   younger mom 37    full term 10     married     25     7.25  \n",
              "842 33   34   younger mom 40    full term 13     married     25     8.25  \n",
              "843 35   34   younger mom 37    full term 14     married     36     8.50  \n",
              "844 35   34   younger mom 40    full term 15     married     20     7.44  \n",
              "845 40   34   younger mom 37    full term  5     married     25     7.75  \n",
              "846 36   34   younger mom 41    full term 15     married     28     8.50  \n",
              "847 40   34   younger mom 39    full term 12     married     23     8.13  \n",
              "848 36   34   younger mom 41    full term 10     married     NA     6.94  \n",
              "849 34   34   younger mom 37    full term 15     married     20     7.25  \n",
              "850 22   34   younger mom 39    full term 12     married     57     9.69  \n",
              "851 38   34   younger mom 40    full term 18     married      0     6.31  \n",
              "852 31   34   younger mom 42    full term 20     married     40     6.75  \n",
              "853 34   34   younger mom 37    full term 17     married     35     6.88  \n",
              "854 40   34   younger mom 44    full term 12     married     28     8.75  \n",
              "855 30   34   younger mom 40    full term 10     married     22     9.31  \n",
              "856 26   34   younger mom 39    full term 16     married     15     7.88  \n",
              "857 35   34   younger mom 40    full term 16     married     38     7.63  \n",
              "858 35   34   younger mom 41    full term 10     married     33     8.31  \n",
              "859 30   34   younger mom 41    full term 14     married     40     7.88  \n",
              "860 34   34   younger mom 39    full term 10     married     44     7.56  \n",
              "861 39   34   younger mom 38    full term  8     married     60     6.19  \n",
              "862 38   34   younger mom 39    full term  9     married     34     7.94  \n",
              "863 38   34   younger mom 34    premie    10     married     29     7.19  \n",
              "864 38   34   younger mom 36    premie     7     married     22     6.31  \n",
              "865 38   34   younger mom 34    premie    10     married     15     4.69  \n",
              "866 NA   34   younger mom 33    premie    17     not married 14     3.81  \n",
              "867 34   34   younger mom 28    premie    20     married     21     2.88  \n",
              "    lowbirthweight gender habit     whitemom \n",
              "1   not low        male   nonsmoker not white\n",
              "2   not low        male   nonsmoker not white\n",
              "3   not low        female nonsmoker white    \n",
              "4   not low        male   nonsmoker white    \n",
              "5   not low        female nonsmoker not white\n",
              "6   low            male   nonsmoker not white\n",
              "7   not low        male   nonsmoker not white\n",
              "8   low            male   nonsmoker not white\n",
              "9   not low        male   nonsmoker white    \n",
              "10  not low        female nonsmoker white    \n",
              "11  not low        male   nonsmoker white    \n",
              "12  not low        female nonsmoker white    \n",
              "13  not low        female nonsmoker not white\n",
              "14  not low        female nonsmoker white    \n",
              "15  not low        female smoker    white    \n",
              "16  not low        male   smoker    white    \n",
              "17  not low        female smoker    white    \n",
              "18  low            male   nonsmoker not white\n",
              "19  not low        female nonsmoker white    \n",
              "20  not low        female nonsmoker not white\n",
              "21  not low        male   nonsmoker not white\n",
              "22  not low        male   nonsmoker white    \n",
              "23  not low        male   nonsmoker not white\n",
              "24  not low        female nonsmoker not white\n",
              "25  not low        female nonsmoker white    \n",
              "26  not low        female nonsmoker not white\n",
              "27  not low        male   nonsmoker not white\n",
              "28  not low        male   nonsmoker not white\n",
              "29  not low        male   nonsmoker white    \n",
              "30  not low        male   nonsmoker not white\n",
              "⋮   ⋮              ⋮      ⋮         ⋮        \n",
              "838 not low        male   nonsmoker white    \n",
              "839 not low        female nonsmoker white    \n",
              "840 not low        female nonsmoker white    \n",
              "841 not low        female nonsmoker white    \n",
              "842 not low        male   nonsmoker white    \n",
              "843 not low        male   nonsmoker white    \n",
              "844 not low        male   nonsmoker white    \n",
              "845 not low        female nonsmoker white    \n",
              "846 not low        female nonsmoker white    \n",
              "847 not low        male   nonsmoker white    \n",
              "848 not low        male   nonsmoker white    \n",
              "849 not low        male   nonsmoker white    \n",
              "850 not low        male   nonsmoker not white\n",
              "851 not low        female nonsmoker white    \n",
              "852 not low        male   nonsmoker white    \n",
              "853 not low        female nonsmoker white    \n",
              "854 not low        male   nonsmoker white    \n",
              "855 not low        male   nonsmoker white    \n",
              "856 not low        female nonsmoker not white\n",
              "857 not low        female nonsmoker white    \n",
              "858 not low        female nonsmoker not white\n",
              "859 not low        female nonsmoker white    \n",
              "860 not low        female nonsmoker white    \n",
              "861 not low        female nonsmoker white    \n",
              "862 not low        female nonsmoker not white\n",
              "863 not low        male   nonsmoker white    \n",
              "864 not low        male   nonsmoker white    \n",
              "865 low            female nonsmoker white    \n",
              "866 low            female nonsmoker white    \n",
              "867 low            male   nonsmoker white    "
            ]
          },
          "metadata": {}
        }
      ]
    },
    {
      "cell_type": "markdown",
      "source": [
        "12.\\\n",
        "Age of 34 is the cut line, and from age of 35 and above are labeled as mature mom."
      ],
      "metadata": {
        "id": "kccl00-WWu6l"
      }
    },
    {
      "cell_type": "code",
      "source": [
        "#13\n",
        "null_lowbirthweight <- ncbirths %>%\n",
        "  specify(success = \"low\", formula = lowbirthweight ~ mature)%>%\n",
        "    hypothesize(null = \"independence\")%>%\n",
        "      generate(reps = 15000, type = \"permute\")%>%\n",
        "        calculate(stat = \"diff in props\",\n",
        "                  order = c(\"mature mom\", \"younger mom\"))\n",
        "\n",
        "null_lowbirthweight\n",
        "\n",
        "difference_lowbirthweight <- ncbirths %>%\n",
        "  specify(success = \"low\",formula = lowbirthweight ~ mature)%>%\n",
        "      calculate(stat = \"diff in props\",\n",
        "                order = c(\"mature mom\", \"younger mom\"))\n",
        "\n",
        "difference_lowbirthweight\n",
        "\n",
        "null_lowbirthweight %>%\n",
        "  get_pvalue(difference_lowbirthweight, direction = \"greater\")\n"
      ],
      "metadata": {
        "colab": {
          "base_uri": "https://localhost:8080/",
          "height": 1000
        },
        "id": "9rWnASAmW_Qp",
        "outputId": "ca1a9e7e-bd7d-451f-a6b1-720249cc15e9"
      },
      "execution_count": null,
      "outputs": [
        {
          "output_type": "display_data",
          "data": {
            "text/html": [
              "<table class=\"dataframe\">\n",
              "<caption>A infer: 15000 × 2</caption>\n",
              "<thead>\n",
              "\t<tr><th scope=col>replicate</th><th scope=col>stat</th></tr>\n",
              "\t<tr><th scope=col>&lt;int&gt;</th><th scope=col>&lt;dbl&gt;</th></tr>\n",
              "</thead>\n",
              "<tbody>\n",
              "\t<tr><td> 1</td><td> 0.019399710</td></tr>\n",
              "\t<tr><td> 2</td><td>-0.006616888</td></tr>\n",
              "\t<tr><td> 3</td><td>-0.041305686</td></tr>\n",
              "\t<tr><td> 4</td><td> 0.002055311</td></tr>\n",
              "\t<tr><td> 5</td><td> 0.019399710</td></tr>\n",
              "\t<tr><td> 6</td><td> 0.028071910</td></tr>\n",
              "\t<tr><td> 7</td><td> 0.019399710</td></tr>\n",
              "\t<tr><td> 8</td><td>-0.015289088</td></tr>\n",
              "\t<tr><td> 9</td><td>-0.015289088</td></tr>\n",
              "\t<tr><td>10</td><td>-0.067322285</td></tr>\n",
              "\t<tr><td>11</td><td>-0.023961287</td></tr>\n",
              "\t<tr><td>12</td><td>-0.023961287</td></tr>\n",
              "\t<tr><td>13</td><td> 0.036744109</td></tr>\n",
              "\t<tr><td>14</td><td>-0.032633487</td></tr>\n",
              "\t<tr><td>15</td><td> 0.002055311</td></tr>\n",
              "\t<tr><td>16</td><td> 0.010727511</td></tr>\n",
              "\t<tr><td>17</td><td> 0.036744109</td></tr>\n",
              "\t<tr><td>18</td><td> 0.010727511</td></tr>\n",
              "\t<tr><td>19</td><td> 0.010727511</td></tr>\n",
              "\t<tr><td>20</td><td>-0.015289088</td></tr>\n",
              "\t<tr><td>21</td><td>-0.015289088</td></tr>\n",
              "\t<tr><td>22</td><td> 0.002055311</td></tr>\n",
              "\t<tr><td>23</td><td>-0.049977886</td></tr>\n",
              "\t<tr><td>24</td><td>-0.032633487</td></tr>\n",
              "\t<tr><td>25</td><td> 0.028071910</td></tr>\n",
              "\t<tr><td>26</td><td>-0.023961287</td></tr>\n",
              "\t<tr><td>27</td><td>-0.006616888</td></tr>\n",
              "\t<tr><td>28</td><td>-0.015289088</td></tr>\n",
              "\t<tr><td>29</td><td>-0.023961287</td></tr>\n",
              "\t<tr><td>30</td><td> 0.028071910</td></tr>\n",
              "\t<tr><td>⋮</td><td>⋮</td></tr>\n",
              "\t<tr><td>14971</td><td> 0.028071910</td></tr>\n",
              "\t<tr><td>14972</td><td>-0.015289088</td></tr>\n",
              "\t<tr><td>14973</td><td>-0.006616888</td></tr>\n",
              "\t<tr><td>14974</td><td>-0.023961287</td></tr>\n",
              "\t<tr><td>14975</td><td>-0.032633487</td></tr>\n",
              "\t<tr><td>14976</td><td> 0.002055311</td></tr>\n",
              "\t<tr><td>14977</td><td> 0.028071910</td></tr>\n",
              "\t<tr><td>14978</td><td>-0.058650085</td></tr>\n",
              "\t<tr><td>14979</td><td> 0.010727511</td></tr>\n",
              "\t<tr><td>14980</td><td>-0.015289088</td></tr>\n",
              "\t<tr><td>14981</td><td>-0.006616888</td></tr>\n",
              "\t<tr><td>14982</td><td>-0.023961287</td></tr>\n",
              "\t<tr><td>14983</td><td> 0.045416309</td></tr>\n",
              "\t<tr><td>14984</td><td> 0.054088508</td></tr>\n",
              "\t<tr><td>14985</td><td>-0.015289088</td></tr>\n",
              "\t<tr><td>14986</td><td>-0.032633487</td></tr>\n",
              "\t<tr><td>14987</td><td> 0.002055311</td></tr>\n",
              "\t<tr><td>14988</td><td> 0.010727511</td></tr>\n",
              "\t<tr><td>14989</td><td> 0.002055311</td></tr>\n",
              "\t<tr><td>14990</td><td> 0.002055311</td></tr>\n",
              "\t<tr><td>14991</td><td>-0.006616888</td></tr>\n",
              "\t<tr><td>14992</td><td>-0.032633487</td></tr>\n",
              "\t<tr><td>14993</td><td> 0.019399710</td></tr>\n",
              "\t<tr><td>14994</td><td>-0.032633487</td></tr>\n",
              "\t<tr><td>14995</td><td>-0.006616888</td></tr>\n",
              "\t<tr><td>14996</td><td> 0.028071910</td></tr>\n",
              "\t<tr><td>14997</td><td> 0.062760708</td></tr>\n",
              "\t<tr><td>14998</td><td>-0.023961287</td></tr>\n",
              "\t<tr><td>14999</td><td>-0.032633487</td></tr>\n",
              "\t<tr><td>15000</td><td>-0.032633487</td></tr>\n",
              "</tbody>\n",
              "</table>\n"
            ],
            "text/markdown": "\nA infer: 15000 × 2\n\n| replicate &lt;int&gt; | stat &lt;dbl&gt; |\n|---|---|\n|  1 |  0.019399710 |\n|  2 | -0.006616888 |\n|  3 | -0.041305686 |\n|  4 |  0.002055311 |\n|  5 |  0.019399710 |\n|  6 |  0.028071910 |\n|  7 |  0.019399710 |\n|  8 | -0.015289088 |\n|  9 | -0.015289088 |\n| 10 | -0.067322285 |\n| 11 | -0.023961287 |\n| 12 | -0.023961287 |\n| 13 |  0.036744109 |\n| 14 | -0.032633487 |\n| 15 |  0.002055311 |\n| 16 |  0.010727511 |\n| 17 |  0.036744109 |\n| 18 |  0.010727511 |\n| 19 |  0.010727511 |\n| 20 | -0.015289088 |\n| 21 | -0.015289088 |\n| 22 |  0.002055311 |\n| 23 | -0.049977886 |\n| 24 | -0.032633487 |\n| 25 |  0.028071910 |\n| 26 | -0.023961287 |\n| 27 | -0.006616888 |\n| 28 | -0.015289088 |\n| 29 | -0.023961287 |\n| 30 |  0.028071910 |\n| ⋮ | ⋮ |\n| 14971 |  0.028071910 |\n| 14972 | -0.015289088 |\n| 14973 | -0.006616888 |\n| 14974 | -0.023961287 |\n| 14975 | -0.032633487 |\n| 14976 |  0.002055311 |\n| 14977 |  0.028071910 |\n| 14978 | -0.058650085 |\n| 14979 |  0.010727511 |\n| 14980 | -0.015289088 |\n| 14981 | -0.006616888 |\n| 14982 | -0.023961287 |\n| 14983 |  0.045416309 |\n| 14984 |  0.054088508 |\n| 14985 | -0.015289088 |\n| 14986 | -0.032633487 |\n| 14987 |  0.002055311 |\n| 14988 |  0.010727511 |\n| 14989 |  0.002055311 |\n| 14990 |  0.002055311 |\n| 14991 | -0.006616888 |\n| 14992 | -0.032633487 |\n| 14993 |  0.019399710 |\n| 14994 | -0.032633487 |\n| 14995 | -0.006616888 |\n| 14996 |  0.028071910 |\n| 14997 |  0.062760708 |\n| 14998 | -0.023961287 |\n| 14999 | -0.032633487 |\n| 15000 | -0.032633487 |\n\n",
            "text/latex": "A infer: 15000 × 2\n\\begin{tabular}{ll}\n replicate & stat\\\\\n <int> & <dbl>\\\\\n\\hline\n\t  1 &  0.019399710\\\\\n\t  2 & -0.006616888\\\\\n\t  3 & -0.041305686\\\\\n\t  4 &  0.002055311\\\\\n\t  5 &  0.019399710\\\\\n\t  6 &  0.028071910\\\\\n\t  7 &  0.019399710\\\\\n\t  8 & -0.015289088\\\\\n\t  9 & -0.015289088\\\\\n\t 10 & -0.067322285\\\\\n\t 11 & -0.023961287\\\\\n\t 12 & -0.023961287\\\\\n\t 13 &  0.036744109\\\\\n\t 14 & -0.032633487\\\\\n\t 15 &  0.002055311\\\\\n\t 16 &  0.010727511\\\\\n\t 17 &  0.036744109\\\\\n\t 18 &  0.010727511\\\\\n\t 19 &  0.010727511\\\\\n\t 20 & -0.015289088\\\\\n\t 21 & -0.015289088\\\\\n\t 22 &  0.002055311\\\\\n\t 23 & -0.049977886\\\\\n\t 24 & -0.032633487\\\\\n\t 25 &  0.028071910\\\\\n\t 26 & -0.023961287\\\\\n\t 27 & -0.006616888\\\\\n\t 28 & -0.015289088\\\\\n\t 29 & -0.023961287\\\\\n\t 30 &  0.028071910\\\\\n\t ⋮ & ⋮\\\\\n\t 14971 &  0.028071910\\\\\n\t 14972 & -0.015289088\\\\\n\t 14973 & -0.006616888\\\\\n\t 14974 & -0.023961287\\\\\n\t 14975 & -0.032633487\\\\\n\t 14976 &  0.002055311\\\\\n\t 14977 &  0.028071910\\\\\n\t 14978 & -0.058650085\\\\\n\t 14979 &  0.010727511\\\\\n\t 14980 & -0.015289088\\\\\n\t 14981 & -0.006616888\\\\\n\t 14982 & -0.023961287\\\\\n\t 14983 &  0.045416309\\\\\n\t 14984 &  0.054088508\\\\\n\t 14985 & -0.015289088\\\\\n\t 14986 & -0.032633487\\\\\n\t 14987 &  0.002055311\\\\\n\t 14988 &  0.010727511\\\\\n\t 14989 &  0.002055311\\\\\n\t 14990 &  0.002055311\\\\\n\t 14991 & -0.006616888\\\\\n\t 14992 & -0.032633487\\\\\n\t 14993 &  0.019399710\\\\\n\t 14994 & -0.032633487\\\\\n\t 14995 & -0.006616888\\\\\n\t 14996 &  0.028071910\\\\\n\t 14997 &  0.062760708\\\\\n\t 14998 & -0.023961287\\\\\n\t 14999 & -0.032633487\\\\\n\t 15000 & -0.032633487\\\\\n\\end{tabular}\n",
            "text/plain": [
              "      replicate stat        \n",
              "1      1         0.019399710\n",
              "2      2        -0.006616888\n",
              "3      3        -0.041305686\n",
              "4      4         0.002055311\n",
              "5      5         0.019399710\n",
              "6      6         0.028071910\n",
              "7      7         0.019399710\n",
              "8      8        -0.015289088\n",
              "9      9        -0.015289088\n",
              "10    10        -0.067322285\n",
              "11    11        -0.023961287\n",
              "12    12        -0.023961287\n",
              "13    13         0.036744109\n",
              "14    14        -0.032633487\n",
              "15    15         0.002055311\n",
              "16    16         0.010727511\n",
              "17    17         0.036744109\n",
              "18    18         0.010727511\n",
              "19    19         0.010727511\n",
              "20    20        -0.015289088\n",
              "21    21        -0.015289088\n",
              "22    22         0.002055311\n",
              "23    23        -0.049977886\n",
              "24    24        -0.032633487\n",
              "25    25         0.028071910\n",
              "26    26        -0.023961287\n",
              "27    27        -0.006616888\n",
              "28    28        -0.015289088\n",
              "29    29        -0.023961287\n",
              "30    30         0.028071910\n",
              "⋮     ⋮         ⋮           \n",
              "14971 14971      0.028071910\n",
              "14972 14972     -0.015289088\n",
              "14973 14973     -0.006616888\n",
              "14974 14974     -0.023961287\n",
              "14975 14975     -0.032633487\n",
              "14976 14976      0.002055311\n",
              "14977 14977      0.028071910\n",
              "14978 14978     -0.058650085\n",
              "14979 14979      0.010727511\n",
              "14980 14980     -0.015289088\n",
              "14981 14981     -0.006616888\n",
              "14982 14982     -0.023961287\n",
              "14983 14983      0.045416309\n",
              "14984 14984      0.054088508\n",
              "14985 14985     -0.015289088\n",
              "14986 14986     -0.032633487\n",
              "14987 14987      0.002055311\n",
              "14988 14988      0.010727511\n",
              "14989 14989      0.002055311\n",
              "14990 14990      0.002055311\n",
              "14991 14991     -0.006616888\n",
              "14992 14992     -0.032633487\n",
              "14993 14993      0.019399710\n",
              "14994 14994     -0.032633487\n",
              "14995 14995     -0.006616888\n",
              "14996 14996      0.028071910\n",
              "14997 14997      0.062760708\n",
              "14998 14998     -0.023961287\n",
              "14999 14999     -0.032633487\n",
              "15000 15000     -0.032633487"
            ]
          },
          "metadata": {}
        },
        {
          "output_type": "display_data",
          "data": {
            "text/html": [
              "<table class=\"dataframe\">\n",
              "<caption>A infer: 1 × 1</caption>\n",
              "<thead>\n",
              "\t<tr><th scope=col>stat</th></tr>\n",
              "\t<tr><th scope=col>&lt;dbl&gt;</th></tr>\n",
              "</thead>\n",
              "<tbody>\n",
              "\t<tr><td>0.02807191</td></tr>\n",
              "</tbody>\n",
              "</table>\n"
            ],
            "text/markdown": "\nA infer: 1 × 1\n\n| stat &lt;dbl&gt; |\n|---|\n| 0.02807191 |\n\n",
            "text/latex": "A infer: 1 × 1\n\\begin{tabular}{l}\n stat\\\\\n <dbl>\\\\\n\\hline\n\t 0.02807191\\\\\n\\end{tabular}\n",
            "text/plain": [
              "  stat      \n",
              "1 0.02807191"
            ]
          },
          "metadata": {}
        },
        {
          "output_type": "display_data",
          "data": {
            "text/html": [
              "<table class=\"dataframe\">\n",
              "<caption>A tibble: 1 × 1</caption>\n",
              "<thead>\n",
              "\t<tr><th scope=col>p_value</th></tr>\n",
              "\t<tr><th scope=col>&lt;dbl&gt;</th></tr>\n",
              "</thead>\n",
              "<tbody>\n",
              "\t<tr><td>0.2062667</td></tr>\n",
              "</tbody>\n",
              "</table>\n"
            ],
            "text/markdown": "\nA tibble: 1 × 1\n\n| p_value &lt;dbl&gt; |\n|---|\n| 0.2062667 |\n\n",
            "text/latex": "A tibble: 1 × 1\n\\begin{tabular}{l}\n p\\_value\\\\\n <dbl>\\\\\n\\hline\n\t 0.2062667\\\\\n\\end{tabular}\n",
            "text/plain": [
              "  p_value  \n",
              "1 0.2062667"
            ]
          },
          "metadata": {}
        }
      ]
    },
    {
      "cell_type": "markdown",
      "source": [
        "13.\\\n",
        "Since the p value is 0.201, and it is bigger than the alpha value which is 0.05, it does not reject the null, therefore, they are the same."
      ],
      "metadata": {
        "id": "p88pvqSNZlK4"
      }
    }
  ]
}