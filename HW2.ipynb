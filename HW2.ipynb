{
  "nbformat": 4,
  "nbformat_minor": 0,
  "metadata": {
    "colab": {
      "provenance": [],
      "authorship_tag": "ABX9TyPb/icOSUm0vHPWhMCJ5AYX",
      "include_colab_link": true
    },
    "kernelspec": {
      "name": "ir",
      "display_name": "R"
    },
    "language_info": {
      "name": "R"
    }
  },
  "cells": [
    {
      "cell_type": "markdown",
      "metadata": {
        "id": "view-in-github",
        "colab_type": "text"
      },
      "source": [
        "<a href=\"https://colab.research.google.com/github/jangminsong/DCS210/blob/main/HW2.ipynb\" target=\"_parent\"><img src=\"https://colab.research.google.com/assets/colab-badge.svg\" alt=\"Open In Colab\"/></a>"
      ]
    },
    {
      "cell_type": "code",
      "execution_count": null,
      "metadata": {
        "id": "yAD3TBNmy0Ss",
        "colab": {
          "base_uri": "https://localhost:8080/"
        },
        "outputId": "65186b84-799f-4d6f-8eb1-eb215ea95231"
      },
      "outputs": [
        {
          "output_type": "stream",
          "name": "stderr",
          "text": [
            "Installing package into ‘/usr/local/lib/R/site-library’\n",
            "(as ‘lib’ is unspecified)\n",
            "\n",
            "Installing package into ‘/usr/local/lib/R/site-library’\n",
            "(as ‘lib’ is unspecified)\n",
            "\n",
            "also installing the dependencies ‘airports’, ‘cherryblossom’, ‘usdata’\n",
            "\n",
            "\n",
            "Warning message in system(\"timedatectl\", intern = TRUE):\n",
            "“running command 'timedatectl' had status 1”\n",
            "── \u001b[1mAttaching packages\u001b[22m ─────────────────────────────────────── tidyverse 1.3.2 ──\n",
            "\u001b[32m✔\u001b[39m \u001b[34mggplot2\u001b[39m 3.3.6      \u001b[32m✔\u001b[39m \u001b[34mpurrr  \u001b[39m 0.3.4 \n",
            "\u001b[32m✔\u001b[39m \u001b[34mtibble \u001b[39m 3.1.7      \u001b[32m✔\u001b[39m \u001b[34mdplyr  \u001b[39m 1.0.10\n",
            "\u001b[32m✔\u001b[39m \u001b[34mtidyr  \u001b[39m 1.2.1      \u001b[32m✔\u001b[39m \u001b[34mstringr\u001b[39m 1.4.1 \n",
            "\u001b[32m✔\u001b[39m \u001b[34mreadr  \u001b[39m 2.1.2      \u001b[32m✔\u001b[39m \u001b[34mforcats\u001b[39m 0.5.2 \n",
            "── \u001b[1mConflicts\u001b[22m ────────────────────────────────────────── tidyverse_conflicts() ──\n",
            "\u001b[31m✖\u001b[39m \u001b[34mdplyr\u001b[39m::\u001b[32mfilter()\u001b[39m masks \u001b[34mstats\u001b[39m::filter()\n",
            "\u001b[31m✖\u001b[39m \u001b[34mdplyr\u001b[39m::\u001b[32mlag()\u001b[39m    masks \u001b[34mstats\u001b[39m::lag()\n",
            "Loading required package: airports\n",
            "\n",
            "Loading required package: cherryblossom\n",
            "\n",
            "Loading required package: usdata\n",
            "\n"
          ]
        }
      ],
      "source": [
        "install.packages(\"tidyverse\")\n",
        "install.packages(\"openintro\")\n",
        "library(tidyverse)\n",
        "library(openintro)"
      ]
    },
    {
      "cell_type": "code",
      "source": [
        "View(seattlepets)"
      ],
      "metadata": {
        "id": "BBQbyTkDqznG"
      },
      "execution_count": null,
      "outputs": []
    },
    {
      "cell_type": "code",
      "source": [
        "nrow(seattlepets)"
      ],
      "metadata": {
        "colab": {
          "base_uri": "https://localhost:8080/",
          "height": 34
        },
        "id": "fVY4fvWCV6bW",
        "outputId": "2272420c-d350-40ae-b836-8e04a7c0e2a8"
      },
      "execution_count": null,
      "outputs": [
        {
          "output_type": "display_data",
          "data": {
            "text/html": [
              "52519"
            ],
            "text/markdown": "52519",
            "text/latex": "52519",
            "text/plain": [
              "[1] 52519"
            ]
          },
          "metadata": {}
        }
      ]
    },
    {
      "cell_type": "code",
      "source": [
        "seattlepets %>%\n",
        "  count(animal_name, sort = TRUE)"
      ],
      "metadata": {
        "id": "3SewZbjHq3PH"
      },
      "execution_count": null,
      "outputs": []
    },
    {
      "cell_type": "code",
      "source": [
        "seattlepets %>%\n",
        "  group_by(species) %>%\n",
        "  count(animal_name, sort = TRUE)"
      ],
      "metadata": {
        "id": "uh0uxfReq9r4"
      },
      "execution_count": null,
      "outputs": []
    },
    {
      "cell_type": "code",
      "source": [
        "seattlepets %>%\n",
        "  group_by(species) %>%\n",
        "  count(animal_name, sort = TRUE) %>%\n",
        "  slice_max(n, n = 5)"
      ],
      "metadata": {
        "id": "weZdIyj3hSRN"
      },
      "execution_count": null,
      "outputs": []
    },
    {
      "cell_type": "code",
      "source": [
        "seattlepets %>%\n",
        "  group_by(species) %>%\n",
        "  count(animal_name, sort = TRUE) %>%\n",
        "  slice_max(n, n = 5) %>%\n",
        "  arrange(species, n)"
      ],
      "metadata": {
        "id": "3fvwjrpFs9df",
        "colab": {
          "base_uri": "https://localhost:8080/",
          "height": 106
        },
        "outputId": "24468fd7-68ec-43da-b4ef-5dd1e9d6c5e2"
      },
      "execution_count": 1,
      "outputs": [
        {
          "output_type": "error",
          "ename": "ERROR",
          "evalue": "Error in seattlepets %>% group_by(species) %>% count(animal_name, sort = TRUE) %>% : could not find function \"%>%\"\n",
          "traceback": [
            "Error in seattlepets %>% group_by(species) %>% count(animal_name, sort = TRUE) %>% : could not find function \"%>%\"\nTraceback:\n"
          ]
        }
      ]
    },
    {
      "cell_type": "code",
      "source": [
        "seattlepets %>%\n",
        "  group_by(species) %>%\n",
        "  count(animal_name, sort = TRUE) %>%\n",
        "  slice_max(n, n = 5) %>%\n",
        "  arrange(n, species)"
      ],
      "metadata": {
        "id": "GPn49idfkrB7"
      },
      "execution_count": null,
      "outputs": []
    }
  ]
}